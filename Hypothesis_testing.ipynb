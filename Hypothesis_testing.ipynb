{
 "cells": [
  {
   "cell_type": "code",
   "execution_count": 2,
   "id": "dff32c9b",
   "metadata": {},
   "outputs": [],
   "source": [
    "import numpy as np\n",
    "import pandas as pd\n",
    "\n",
    "import scipy.stats as stats"
   ]
  },
  {
   "cell_type": "code",
   "execution_count": 31,
   "id": "3b6d9ac5",
   "metadata": {},
   "outputs": [],
   "source": [
    "loan_data=pd.read_csv(\"C:\\\\Users\\\\d\\\\OneDrive\\\\Desktop\\\\Python Study Material\\\\Case studies\\\\Casr study 5\\\\LoansData.csv\")"
   ]
  },
  {
   "cell_type": "code",
   "execution_count": 5,
   "id": "61572255",
   "metadata": {},
   "outputs": [
    {
     "data": {
      "text/html": [
       "<div>\n",
       "<style scoped>\n",
       "    .dataframe tbody tr th:only-of-type {\n",
       "        vertical-align: middle;\n",
       "    }\n",
       "\n",
       "    .dataframe tbody tr th {\n",
       "        vertical-align: top;\n",
       "    }\n",
       "\n",
       "    .dataframe thead th {\n",
       "        text-align: right;\n",
       "    }\n",
       "</style>\n",
       "<table border=\"1\" class=\"dataframe\">\n",
       "  <thead>\n",
       "    <tr style=\"text-align: right;\">\n",
       "      <th></th>\n",
       "      <th>Amount.Requested</th>\n",
       "      <th>Amount.Funded.By.Investors</th>\n",
       "      <th>Interest.Rate</th>\n",
       "      <th>Loan.Length</th>\n",
       "      <th>Loan.Purpose</th>\n",
       "      <th>Debt.To.Income.Ratio</th>\n",
       "      <th>State</th>\n",
       "      <th>Home.Ownership</th>\n",
       "      <th>Monthly.Income</th>\n",
       "      <th>FICO.Range</th>\n",
       "      <th>Open.CREDIT.Lines</th>\n",
       "      <th>Revolving.CREDIT.Balance</th>\n",
       "      <th>Inquiries.in.the.Last.6.Months</th>\n",
       "      <th>Employment.Length</th>\n",
       "    </tr>\n",
       "  </thead>\n",
       "  <tbody>\n",
       "    <tr>\n",
       "      <th>0</th>\n",
       "      <td>20000.0</td>\n",
       "      <td>20000.0</td>\n",
       "      <td>8.90%</td>\n",
       "      <td>36 months</td>\n",
       "      <td>debt_consolidation</td>\n",
       "      <td>14.90%</td>\n",
       "      <td>SC</td>\n",
       "      <td>MORTGAGE</td>\n",
       "      <td>6541.67</td>\n",
       "      <td>735-739</td>\n",
       "      <td>14.0</td>\n",
       "      <td>14272.0</td>\n",
       "      <td>2.0</td>\n",
       "      <td>&lt; 1 year</td>\n",
       "    </tr>\n",
       "    <tr>\n",
       "      <th>1</th>\n",
       "      <td>19200.0</td>\n",
       "      <td>19200.0</td>\n",
       "      <td>12.12%</td>\n",
       "      <td>36 months</td>\n",
       "      <td>debt_consolidation</td>\n",
       "      <td>28.36%</td>\n",
       "      <td>TX</td>\n",
       "      <td>MORTGAGE</td>\n",
       "      <td>4583.33</td>\n",
       "      <td>715-719</td>\n",
       "      <td>12.0</td>\n",
       "      <td>11140.0</td>\n",
       "      <td>1.0</td>\n",
       "      <td>2 years</td>\n",
       "    </tr>\n",
       "    <tr>\n",
       "      <th>2</th>\n",
       "      <td>35000.0</td>\n",
       "      <td>35000.0</td>\n",
       "      <td>21.98%</td>\n",
       "      <td>60 months</td>\n",
       "      <td>debt_consolidation</td>\n",
       "      <td>23.81%</td>\n",
       "      <td>CA</td>\n",
       "      <td>MORTGAGE</td>\n",
       "      <td>11500.00</td>\n",
       "      <td>690-694</td>\n",
       "      <td>14.0</td>\n",
       "      <td>21977.0</td>\n",
       "      <td>1.0</td>\n",
       "      <td>2 years</td>\n",
       "    </tr>\n",
       "    <tr>\n",
       "      <th>3</th>\n",
       "      <td>10000.0</td>\n",
       "      <td>9975.0</td>\n",
       "      <td>9.99%</td>\n",
       "      <td>36 months</td>\n",
       "      <td>debt_consolidation</td>\n",
       "      <td>14.30%</td>\n",
       "      <td>KS</td>\n",
       "      <td>MORTGAGE</td>\n",
       "      <td>3833.33</td>\n",
       "      <td>695-699</td>\n",
       "      <td>10.0</td>\n",
       "      <td>9346.0</td>\n",
       "      <td>0.0</td>\n",
       "      <td>5 years</td>\n",
       "    </tr>\n",
       "    <tr>\n",
       "      <th>4</th>\n",
       "      <td>12000.0</td>\n",
       "      <td>12000.0</td>\n",
       "      <td>11.71%</td>\n",
       "      <td>36 months</td>\n",
       "      <td>credit_card</td>\n",
       "      <td>18.78%</td>\n",
       "      <td>NJ</td>\n",
       "      <td>RENT</td>\n",
       "      <td>3195.00</td>\n",
       "      <td>695-699</td>\n",
       "      <td>11.0</td>\n",
       "      <td>14469.0</td>\n",
       "      <td>0.0</td>\n",
       "      <td>9 years</td>\n",
       "    </tr>\n",
       "  </tbody>\n",
       "</table>\n",
       "</div>"
      ],
      "text/plain": [
       "   Amount.Requested  Amount.Funded.By.Investors Interest.Rate Loan.Length  \\\n",
       "0           20000.0                     20000.0         8.90%   36 months   \n",
       "1           19200.0                     19200.0        12.12%   36 months   \n",
       "2           35000.0                     35000.0        21.98%   60 months   \n",
       "3           10000.0                      9975.0         9.99%   36 months   \n",
       "4           12000.0                     12000.0        11.71%   36 months   \n",
       "\n",
       "         Loan.Purpose Debt.To.Income.Ratio State Home.Ownership  \\\n",
       "0  debt_consolidation               14.90%    SC       MORTGAGE   \n",
       "1  debt_consolidation               28.36%    TX       MORTGAGE   \n",
       "2  debt_consolidation               23.81%    CA       MORTGAGE   \n",
       "3  debt_consolidation               14.30%    KS       MORTGAGE   \n",
       "4         credit_card               18.78%    NJ           RENT   \n",
       "\n",
       "   Monthly.Income FICO.Range  Open.CREDIT.Lines  Revolving.CREDIT.Balance  \\\n",
       "0         6541.67    735-739               14.0                   14272.0   \n",
       "1         4583.33    715-719               12.0                   11140.0   \n",
       "2        11500.00    690-694               14.0                   21977.0   \n",
       "3         3833.33    695-699               10.0                    9346.0   \n",
       "4         3195.00    695-699               11.0                   14469.0   \n",
       "\n",
       "   Inquiries.in.the.Last.6.Months Employment.Length  \n",
       "0                             2.0          < 1 year  \n",
       "1                             1.0           2 years  \n",
       "2                             1.0           2 years  \n",
       "3                             0.0           5 years  \n",
       "4                             0.0           9 years  "
      ]
     },
     "execution_count": 5,
     "metadata": {},
     "output_type": "execute_result"
    }
   ],
   "source": [
    "loan_data.head()"
   ]
  },
  {
   "cell_type": "code",
   "execution_count": 32,
   "id": "1a8dae2c",
   "metadata": {},
   "outputs": [
    {
     "name": "stderr",
     "output_type": "stream",
     "text": [
      "C:\\Users\\d\\AppData\\Local\\Temp\\ipykernel_20072\\3004714726.py:1: FutureWarning: The default value of regex will change from True to False in a future version. In addition, single character regular expressions will *not* be treated as literal strings when regex=True.\n",
      "  loan_data.columns=loan_data.columns.str.replace('.','_')\n"
     ]
    }
   ],
   "source": [
    "loan_data.columns=loan_data.columns.str.replace('.','_')"
   ]
  },
  {
   "cell_type": "code",
   "execution_count": 33,
   "id": "1f26147c",
   "metadata": {
    "scrolled": true
   },
   "outputs": [
    {
     "data": {
      "text/html": [
       "<div>\n",
       "<style scoped>\n",
       "    .dataframe tbody tr th:only-of-type {\n",
       "        vertical-align: middle;\n",
       "    }\n",
       "\n",
       "    .dataframe tbody tr th {\n",
       "        vertical-align: top;\n",
       "    }\n",
       "\n",
       "    .dataframe thead th {\n",
       "        text-align: right;\n",
       "    }\n",
       "</style>\n",
       "<table border=\"1\" class=\"dataframe\">\n",
       "  <thead>\n",
       "    <tr style=\"text-align: right;\">\n",
       "      <th></th>\n",
       "      <th>Amount_Requested</th>\n",
       "      <th>Amount_Funded_By_Investors</th>\n",
       "      <th>Interest_Rate</th>\n",
       "      <th>Loan_Length</th>\n",
       "      <th>Loan_Purpose</th>\n",
       "      <th>Debt_To_Income_Ratio</th>\n",
       "      <th>State</th>\n",
       "      <th>Home_Ownership</th>\n",
       "      <th>Monthly_Income</th>\n",
       "      <th>FICO_Range</th>\n",
       "      <th>Open_CREDIT_Lines</th>\n",
       "      <th>Revolving_CREDIT_Balance</th>\n",
       "      <th>Inquiries_in_the_Last_6_Months</th>\n",
       "      <th>Employment_Length</th>\n",
       "    </tr>\n",
       "  </thead>\n",
       "  <tbody>\n",
       "    <tr>\n",
       "      <th>0</th>\n",
       "      <td>20000.0</td>\n",
       "      <td>20000.0</td>\n",
       "      <td>8.90%</td>\n",
       "      <td>36 months</td>\n",
       "      <td>debt_consolidation</td>\n",
       "      <td>14.90%</td>\n",
       "      <td>SC</td>\n",
       "      <td>MORTGAGE</td>\n",
       "      <td>6541.67</td>\n",
       "      <td>735-739</td>\n",
       "      <td>14.0</td>\n",
       "      <td>14272.0</td>\n",
       "      <td>2.0</td>\n",
       "      <td>&lt; 1 year</td>\n",
       "    </tr>\n",
       "    <tr>\n",
       "      <th>1</th>\n",
       "      <td>19200.0</td>\n",
       "      <td>19200.0</td>\n",
       "      <td>12.12%</td>\n",
       "      <td>36 months</td>\n",
       "      <td>debt_consolidation</td>\n",
       "      <td>28.36%</td>\n",
       "      <td>TX</td>\n",
       "      <td>MORTGAGE</td>\n",
       "      <td>4583.33</td>\n",
       "      <td>715-719</td>\n",
       "      <td>12.0</td>\n",
       "      <td>11140.0</td>\n",
       "      <td>1.0</td>\n",
       "      <td>2 years</td>\n",
       "    </tr>\n",
       "  </tbody>\n",
       "</table>\n",
       "</div>"
      ],
      "text/plain": [
       "   Amount_Requested  Amount_Funded_By_Investors Interest_Rate Loan_Length  \\\n",
       "0           20000.0                     20000.0         8.90%   36 months   \n",
       "1           19200.0                     19200.0        12.12%   36 months   \n",
       "\n",
       "         Loan_Purpose Debt_To_Income_Ratio State Home_Ownership  \\\n",
       "0  debt_consolidation               14.90%    SC       MORTGAGE   \n",
       "1  debt_consolidation               28.36%    TX       MORTGAGE   \n",
       "\n",
       "   Monthly_Income FICO_Range  Open_CREDIT_Lines  Revolving_CREDIT_Balance  \\\n",
       "0         6541.67    735-739               14.0                   14272.0   \n",
       "1         4583.33    715-719               12.0                   11140.0   \n",
       "\n",
       "   Inquiries_in_the_Last_6_Months Employment_Length  \n",
       "0                             2.0          < 1 year  \n",
       "1                             1.0           2 years  "
      ]
     },
     "execution_count": 33,
     "metadata": {},
     "output_type": "execute_result"
    }
   ],
   "source": [
    "loan_data.head(2)"
   ]
  },
  {
   "cell_type": "code",
   "execution_count": 36,
   "id": "3f2aa87d",
   "metadata": {},
   "outputs": [
    {
     "name": "stdout",
     "output_type": "stream",
     "text": [
      "<class 'pandas.core.frame.DataFrame'>\n",
      "RangeIndex: 2500 entries, 0 to 2499\n",
      "Data columns (total 14 columns):\n",
      " #   Column                          Non-Null Count  Dtype  \n",
      "---  ------                          --------------  -----  \n",
      " 0   Amount_Requested                2499 non-null   float64\n",
      " 1   Amount_Funded_By_Investors      2499 non-null   float64\n",
      " 2   Interest_Rate                   2498 non-null   float64\n",
      " 3   Loan_Length                     2500 non-null   object \n",
      " 4   Loan_Purpose                    2500 non-null   object \n",
      " 5   Debt_To_Income_Ratio            2499 non-null   object \n",
      " 6   State                           2500 non-null   object \n",
      " 7   Home_Ownership                  2499 non-null   object \n",
      " 8   Monthly_Income                  2499 non-null   float64\n",
      " 9   FICO_Range                      2498 non-null   object \n",
      " 10  Open_CREDIT_Lines               2497 non-null   float64\n",
      " 11  Revolving_CREDIT_Balance        2497 non-null   float64\n",
      " 12  Inquiries_in_the_Last_6_Months  2497 non-null   float64\n",
      " 13  Employment_Length               2423 non-null   object \n",
      "dtypes: float64(7), object(7)\n",
      "memory usage: 273.6+ KB\n"
     ]
    }
   ],
   "source": [
    "loan_data.info()"
   ]
  },
  {
   "cell_type": "code",
   "execution_count": 54,
   "id": "260ed5e8",
   "metadata": {},
   "outputs": [],
   "source": [
    "loan_data.Interest_Rate=loan_data.Interest_Rate.replace(\"%\",\"\",regex = True).astype(\"float\")\n",
    "loan_data.Loan_Length=loan_data.Loan_Length.replace('months','').astype('object')\n",
    "loan_data.Debt_To_Income_Ratio=loan_data.Debt_To_Income_Ratio.replace('%','',regex=True).astype('float')\n"
   ]
  },
  {
   "cell_type": "code",
   "execution_count": 55,
   "id": "ff696ecf",
   "metadata": {},
   "outputs": [
    {
     "data": {
      "text/html": [
       "<div>\n",
       "<style scoped>\n",
       "    .dataframe tbody tr th:only-of-type {\n",
       "        vertical-align: middle;\n",
       "    }\n",
       "\n",
       "    .dataframe tbody tr th {\n",
       "        vertical-align: top;\n",
       "    }\n",
       "\n",
       "    .dataframe thead th {\n",
       "        text-align: right;\n",
       "    }\n",
       "</style>\n",
       "<table border=\"1\" class=\"dataframe\">\n",
       "  <thead>\n",
       "    <tr style=\"text-align: right;\">\n",
       "      <th></th>\n",
       "      <th>Amount_Requested</th>\n",
       "      <th>Amount_Funded_By_Investors</th>\n",
       "      <th>Interest_Rate</th>\n",
       "      <th>Loan_Length</th>\n",
       "      <th>Loan_Purpose</th>\n",
       "      <th>Debt_To_Income_Ratio</th>\n",
       "      <th>State</th>\n",
       "      <th>Home_Ownership</th>\n",
       "      <th>Monthly_Income</th>\n",
       "      <th>FICO_Range</th>\n",
       "      <th>Open_CREDIT_Lines</th>\n",
       "      <th>Revolving_CREDIT_Balance</th>\n",
       "      <th>Inquiries_in_the_Last_6_Months</th>\n",
       "      <th>Employment_Length</th>\n",
       "    </tr>\n",
       "  </thead>\n",
       "  <tbody>\n",
       "    <tr>\n",
       "      <th>0</th>\n",
       "      <td>20000.0</td>\n",
       "      <td>20000.0</td>\n",
       "      <td>8.90</td>\n",
       "      <td>36</td>\n",
       "      <td>debt_consolidation</td>\n",
       "      <td>14.90</td>\n",
       "      <td>SC</td>\n",
       "      <td>MORTGAGE</td>\n",
       "      <td>6541.67</td>\n",
       "      <td>735-739</td>\n",
       "      <td>14.0</td>\n",
       "      <td>14272.0</td>\n",
       "      <td>2.0</td>\n",
       "      <td>&lt; 1 year</td>\n",
       "    </tr>\n",
       "    <tr>\n",
       "      <th>1</th>\n",
       "      <td>19200.0</td>\n",
       "      <td>19200.0</td>\n",
       "      <td>12.12</td>\n",
       "      <td>36</td>\n",
       "      <td>debt_consolidation</td>\n",
       "      <td>28.36</td>\n",
       "      <td>TX</td>\n",
       "      <td>MORTGAGE</td>\n",
       "      <td>4583.33</td>\n",
       "      <td>715-719</td>\n",
       "      <td>12.0</td>\n",
       "      <td>11140.0</td>\n",
       "      <td>1.0</td>\n",
       "      <td>2 years</td>\n",
       "    </tr>\n",
       "  </tbody>\n",
       "</table>\n",
       "</div>"
      ],
      "text/plain": [
       "   Amount_Requested  Amount_Funded_By_Investors  Interest_Rate Loan_Length  \\\n",
       "0           20000.0                     20000.0           8.90          36   \n",
       "1           19200.0                     19200.0          12.12          36   \n",
       "\n",
       "         Loan_Purpose  Debt_To_Income_Ratio State Home_Ownership  \\\n",
       "0  debt_consolidation                 14.90    SC       MORTGAGE   \n",
       "1  debt_consolidation                 28.36    TX       MORTGAGE   \n",
       "\n",
       "   Monthly_Income FICO_Range  Open_CREDIT_Lines  Revolving_CREDIT_Balance  \\\n",
       "0         6541.67    735-739               14.0                   14272.0   \n",
       "1         4583.33    715-719               12.0                   11140.0   \n",
       "\n",
       "   Inquiries_in_the_Last_6_Months Employment_Length  \n",
       "0                             2.0          < 1 year  \n",
       "1                             1.0           2 years  "
      ]
     },
     "execution_count": 55,
     "metadata": {},
     "output_type": "execute_result"
    }
   ],
   "source": [
    "loan_data.head(2)"
   ]
  },
  {
   "cell_type": "code",
   "execution_count": 60,
   "id": "ee08e741",
   "metadata": {},
   "outputs": [],
   "source": [
    "\n",
    "def fn_describe( x ):\n",
    "    \n",
    "    n_tot = x.isnull().count()\n",
    "    n_miss = x.isnull().sum()\n",
    "    n_miss_perc = n_miss / n_tot\n",
    "    \n",
    "    p25 = x.quantile(0.25)\n",
    "    p75 = x.quantile(0.75)\n",
    "    \n",
    "    iqr = p75 - p25\n",
    "    \n",
    "    lc_iqr = p25 - 1.5 * iqr\n",
    "    uc_iqr = p75 + 1.5 * iqr\n",
    "    \n",
    "    return pd.Series( [ x.dtype, x.nunique(), n_tot, x.count(), n_miss, n_miss_perc, \n",
    "                       x.sum(), x.var(), x.std(), x.mean(), \n",
    "                       iqr, lc_iqr, uc_iqr, \n",
    "                       x.min(), x.quantile(0.01), x.quantile(0.05), x.quantile(0.10), \n",
    "                       x.quantile(0.25), x.quantile(0.50), x.quantile(0.75), \n",
    "                       x.quantile(0.90), x.quantile(0.95), x.quantile(0.99), x.max()],\n",
    "                     \n",
    "                    index = ['dtype', 'cardinality', 'n_tot', 'n', 'n_miss', 'n_miss_perc',\n",
    "                             'sum', 'var', 'std', 'mean',\n",
    "                             'iqr', 'lc_iqr', 'uc_iqr',\n",
    "                             'min', 'p1', 'p5', 'p10', \n",
    "                             'p25', 'p50', 'p75', \n",
    "                             'p90', 'p95', 'p99', 'max'])"
   ]
  },
  {
   "cell_type": "code",
   "execution_count": 58,
   "id": "8e881f35",
   "metadata": {},
   "outputs": [],
   "source": [
    "loan_data_conti_vars = loan_data.loc[:, (loan_data.dtypes == 'float64') | (loan_data.dtypes == 'int64')]\n",
    "loan_data_cat_vars = loan_data.loc[:, (loan_data.dtypes == 'object')]"
   ]
  },
  {
   "cell_type": "code",
   "execution_count": 63,
   "id": "cedddf6c",
   "metadata": {
    "scrolled": true
   },
   "outputs": [
    {
     "data": {
      "text/html": [
       "<div>\n",
       "<style scoped>\n",
       "    .dataframe tbody tr th:only-of-type {\n",
       "        vertical-align: middle;\n",
       "    }\n",
       "\n",
       "    .dataframe tbody tr th {\n",
       "        vertical-align: top;\n",
       "    }\n",
       "\n",
       "    .dataframe thead th {\n",
       "        text-align: right;\n",
       "    }\n",
       "</style>\n",
       "<table border=\"1\" class=\"dataframe\">\n",
       "  <thead>\n",
       "    <tr style=\"text-align: right;\">\n",
       "      <th></th>\n",
       "      <th>Amount_Requested</th>\n",
       "      <th>Amount_Funded_By_Investors</th>\n",
       "      <th>Interest_Rate</th>\n",
       "      <th>Debt_To_Income_Ratio</th>\n",
       "      <th>Monthly_Income</th>\n",
       "      <th>Open_CREDIT_Lines</th>\n",
       "      <th>Revolving_CREDIT_Balance</th>\n",
       "      <th>Inquiries_in_the_Last_6_Months</th>\n",
       "    </tr>\n",
       "  </thead>\n",
       "  <tbody>\n",
       "    <tr>\n",
       "      <th>dtype</th>\n",
       "      <td>float64</td>\n",
       "      <td>float64</td>\n",
       "      <td>float64</td>\n",
       "      <td>float64</td>\n",
       "      <td>float64</td>\n",
       "      <td>float64</td>\n",
       "      <td>float64</td>\n",
       "      <td>float64</td>\n",
       "    </tr>\n",
       "    <tr>\n",
       "      <th>cardinality</th>\n",
       "      <td>380</td>\n",
       "      <td>710</td>\n",
       "      <td>275</td>\n",
       "      <td>1669</td>\n",
       "      <td>632</td>\n",
       "      <td>29</td>\n",
       "      <td>2349</td>\n",
       "      <td>10</td>\n",
       "    </tr>\n",
       "    <tr>\n",
       "      <th>n_tot</th>\n",
       "      <td>2500</td>\n",
       "      <td>2500</td>\n",
       "      <td>2500</td>\n",
       "      <td>2500</td>\n",
       "      <td>2500</td>\n",
       "      <td>2500</td>\n",
       "      <td>2500</td>\n",
       "      <td>2500</td>\n",
       "    </tr>\n",
       "    <tr>\n",
       "      <th>n</th>\n",
       "      <td>2499</td>\n",
       "      <td>2499</td>\n",
       "      <td>2498</td>\n",
       "      <td>2499</td>\n",
       "      <td>2499</td>\n",
       "      <td>2497</td>\n",
       "      <td>2497</td>\n",
       "      <td>2497</td>\n",
       "    </tr>\n",
       "    <tr>\n",
       "      <th>n_miss</th>\n",
       "      <td>1</td>\n",
       "      <td>1</td>\n",
       "      <td>2</td>\n",
       "      <td>1</td>\n",
       "      <td>1</td>\n",
       "      <td>3</td>\n",
       "      <td>3</td>\n",
       "      <td>3</td>\n",
       "    </tr>\n",
       "    <tr>\n",
       "      <th>n_miss_perc</th>\n",
       "      <td>0.0004</td>\n",
       "      <td>0.0004</td>\n",
       "      <td>0.0008</td>\n",
       "      <td>0.0004</td>\n",
       "      <td>0.0004</td>\n",
       "      <td>0.0012</td>\n",
       "      <td>0.0012</td>\n",
       "      <td>0.0012</td>\n",
       "    </tr>\n",
       "    <tr>\n",
       "      <th>sum</th>\n",
       "      <td>31001250.0</td>\n",
       "      <td>29993933.09</td>\n",
       "      <td>32637.34</td>\n",
       "      <td>38435.67</td>\n",
       "      <td>14216639.37</td>\n",
       "      <td>25152.0</td>\n",
       "      <td>38012292.0</td>\n",
       "      <td>2264.0</td>\n",
       "    </tr>\n",
       "    <tr>\n",
       "      <th>var</th>\n",
       "      <td>60885773.795507</td>\n",
       "      <td>60012404.344627</td>\n",
       "      <td>17.449011</td>\n",
       "      <td>56.325811</td>\n",
       "      <td>15706305.750123</td>\n",
       "      <td>20.316801</td>\n",
       "      <td>334195518.850116</td>\n",
       "      <td>1.515728</td>\n",
       "    </tr>\n",
       "    <tr>\n",
       "      <th>std</th>\n",
       "      <td>7802.933666</td>\n",
       "      <td>7746.767348</td>\n",
       "      <td>4.177201</td>\n",
       "      <td>7.505052</td>\n",
       "      <td>3963.118185</td>\n",
       "      <td>4.507416</td>\n",
       "      <td>18281.015258</td>\n",
       "      <td>1.231149</td>\n",
       "    </tr>\n",
       "    <tr>\n",
       "      <th>mean</th>\n",
       "      <td>12405.462185</td>\n",
       "      <td>12002.374186</td>\n",
       "      <td>13.065388</td>\n",
       "      <td>15.38042</td>\n",
       "      <td>5688.931321</td>\n",
       "      <td>10.072887</td>\n",
       "      <td>15223.184622</td>\n",
       "      <td>0.906688</td>\n",
       "    </tr>\n",
       "    <tr>\n",
       "      <th>iqr</th>\n",
       "      <td>11000.0</td>\n",
       "      <td>10000.0</td>\n",
       "      <td>5.64</td>\n",
       "      <td>10.925</td>\n",
       "      <td>3300.0</td>\n",
       "      <td>6.0</td>\n",
       "      <td>13277.0</td>\n",
       "      <td>1.0</td>\n",
       "    </tr>\n",
       "    <tr>\n",
       "      <th>lc_iqr</th>\n",
       "      <td>-10500.0</td>\n",
       "      <td>-9000.0</td>\n",
       "      <td>1.7</td>\n",
       "      <td>-6.6375</td>\n",
       "      <td>-1450.0</td>\n",
       "      <td>-2.0</td>\n",
       "      <td>-14331.5</td>\n",
       "      <td>-1.5</td>\n",
       "    </tr>\n",
       "    <tr>\n",
       "      <th>uc_iqr</th>\n",
       "      <td>33500.0</td>\n",
       "      <td>31000.0</td>\n",
       "      <td>24.26</td>\n",
       "      <td>37.0625</td>\n",
       "      <td>11750.0</td>\n",
       "      <td>22.0</td>\n",
       "      <td>38776.5</td>\n",
       "      <td>2.5</td>\n",
       "    </tr>\n",
       "    <tr>\n",
       "      <th>min</th>\n",
       "      <td>1000.0</td>\n",
       "      <td>-0.01</td>\n",
       "      <td>5.42</td>\n",
       "      <td>0.0</td>\n",
       "      <td>588.5</td>\n",
       "      <td>2.0</td>\n",
       "      <td>0.0</td>\n",
       "      <td>0.0</td>\n",
       "    </tr>\n",
       "    <tr>\n",
       "      <th>p1</th>\n",
       "      <td>1500.0</td>\n",
       "      <td>998.3456</td>\n",
       "      <td>5.984</td>\n",
       "      <td>0.718</td>\n",
       "      <td>1416.4032</td>\n",
       "      <td>3.0</td>\n",
       "      <td>0.0</td>\n",
       "      <td>0.0</td>\n",
       "    </tr>\n",
       "    <tr>\n",
       "      <th>p5</th>\n",
       "      <td>2867.5</td>\n",
       "      <td>2200.0</td>\n",
       "      <td>6.62</td>\n",
       "      <td>3.156</td>\n",
       "      <td>2166.003</td>\n",
       "      <td>4.0</td>\n",
       "      <td>916.2</td>\n",
       "      <td>0.0</td>\n",
       "    </tr>\n",
       "    <tr>\n",
       "      <th>p10</th>\n",
       "      <td>4000.0</td>\n",
       "      <td>3600.0</td>\n",
       "      <td>7.62</td>\n",
       "      <td>5.308</td>\n",
       "      <td>2600.0</td>\n",
       "      <td>5.0</td>\n",
       "      <td>2298.8</td>\n",
       "      <td>0.0</td>\n",
       "    </tr>\n",
       "    <tr>\n",
       "      <th>p25</th>\n",
       "      <td>6000.0</td>\n",
       "      <td>6000.0</td>\n",
       "      <td>10.16</td>\n",
       "      <td>9.75</td>\n",
       "      <td>3500.0</td>\n",
       "      <td>7.0</td>\n",
       "      <td>5584.0</td>\n",
       "      <td>0.0</td>\n",
       "    </tr>\n",
       "    <tr>\n",
       "      <th>p50</th>\n",
       "      <td>10000.0</td>\n",
       "      <td>10000.0</td>\n",
       "      <td>13.11</td>\n",
       "      <td>15.32</td>\n",
       "      <td>5000.0</td>\n",
       "      <td>9.0</td>\n",
       "      <td>10948.0</td>\n",
       "      <td>0.0</td>\n",
       "    </tr>\n",
       "    <tr>\n",
       "      <th>p75</th>\n",
       "      <td>17000.0</td>\n",
       "      <td>16000.0</td>\n",
       "      <td>15.8</td>\n",
       "      <td>20.675</td>\n",
       "      <td>6800.0</td>\n",
       "      <td>13.0</td>\n",
       "      <td>18861.0</td>\n",
       "      <td>1.0</td>\n",
       "    </tr>\n",
       "    <tr>\n",
       "      <th>p90</th>\n",
       "      <td>24000.0</td>\n",
       "      <td>23950.0</td>\n",
       "      <td>18.64</td>\n",
       "      <td>25.014</td>\n",
       "      <td>9297.33</td>\n",
       "      <td>16.0</td>\n",
       "      <td>30047.0</td>\n",
       "      <td>3.0</td>\n",
       "    </tr>\n",
       "    <tr>\n",
       "      <th>p95</th>\n",
       "      <td>28000.0</td>\n",
       "      <td>27925.0</td>\n",
       "      <td>20.49</td>\n",
       "      <td>28.296</td>\n",
       "      <td>11666.703</td>\n",
       "      <td>18.0</td>\n",
       "      <td>40768.4</td>\n",
       "      <td>3.0</td>\n",
       "    </tr>\n",
       "    <tr>\n",
       "      <th>p99</th>\n",
       "      <td>35000.0</td>\n",
       "      <td>35000.0</td>\n",
       "      <td>22.9599</td>\n",
       "      <td>33.23</td>\n",
       "      <td>18750.0</td>\n",
       "      <td>23.0</td>\n",
       "      <td>92433.64</td>\n",
       "      <td>5.0</td>\n",
       "    </tr>\n",
       "    <tr>\n",
       "      <th>max</th>\n",
       "      <td>35000.0</td>\n",
       "      <td>35000.0</td>\n",
       "      <td>24.89</td>\n",
       "      <td>34.91</td>\n",
       "      <td>102750.0</td>\n",
       "      <td>38.0</td>\n",
       "      <td>270800.0</td>\n",
       "      <td>9.0</td>\n",
       "    </tr>\n",
       "  </tbody>\n",
       "</table>\n",
       "</div>"
      ],
      "text/plain": [
       "            Amount_Requested Amount_Funded_By_Investors Interest_Rate  \\\n",
       "dtype                float64                    float64       float64   \n",
       "cardinality              380                        710           275   \n",
       "n_tot                   2500                       2500          2500   \n",
       "n                       2499                       2499          2498   \n",
       "n_miss                     1                          1             2   \n",
       "n_miss_perc           0.0004                     0.0004        0.0008   \n",
       "sum               31001250.0                29993933.09      32637.34   \n",
       "var          60885773.795507            60012404.344627     17.449011   \n",
       "std              7802.933666                7746.767348      4.177201   \n",
       "mean            12405.462185               12002.374186     13.065388   \n",
       "iqr                  11000.0                    10000.0          5.64   \n",
       "lc_iqr              -10500.0                    -9000.0           1.7   \n",
       "uc_iqr               33500.0                    31000.0         24.26   \n",
       "min                   1000.0                      -0.01          5.42   \n",
       "p1                    1500.0                   998.3456         5.984   \n",
       "p5                    2867.5                     2200.0          6.62   \n",
       "p10                   4000.0                     3600.0          7.62   \n",
       "p25                   6000.0                     6000.0         10.16   \n",
       "p50                  10000.0                    10000.0         13.11   \n",
       "p75                  17000.0                    16000.0          15.8   \n",
       "p90                  24000.0                    23950.0         18.64   \n",
       "p95                  28000.0                    27925.0         20.49   \n",
       "p99                  35000.0                    35000.0       22.9599   \n",
       "max                  35000.0                    35000.0         24.89   \n",
       "\n",
       "            Debt_To_Income_Ratio   Monthly_Income Open_CREDIT_Lines  \\\n",
       "dtype                    float64          float64           float64   \n",
       "cardinality                 1669              632                29   \n",
       "n_tot                       2500             2500              2500   \n",
       "n                           2499             2499              2497   \n",
       "n_miss                         1                1                 3   \n",
       "n_miss_perc               0.0004           0.0004            0.0012   \n",
       "sum                     38435.67      14216639.37           25152.0   \n",
       "var                    56.325811  15706305.750123         20.316801   \n",
       "std                     7.505052      3963.118185          4.507416   \n",
       "mean                    15.38042      5688.931321         10.072887   \n",
       "iqr                       10.925           3300.0               6.0   \n",
       "lc_iqr                   -6.6375          -1450.0              -2.0   \n",
       "uc_iqr                   37.0625          11750.0              22.0   \n",
       "min                          0.0            588.5               2.0   \n",
       "p1                         0.718        1416.4032               3.0   \n",
       "p5                         3.156         2166.003               4.0   \n",
       "p10                        5.308           2600.0               5.0   \n",
       "p25                         9.75           3500.0               7.0   \n",
       "p50                        15.32           5000.0               9.0   \n",
       "p75                       20.675           6800.0              13.0   \n",
       "p90                       25.014          9297.33              16.0   \n",
       "p95                       28.296        11666.703              18.0   \n",
       "p99                        33.23          18750.0              23.0   \n",
       "max                        34.91         102750.0              38.0   \n",
       "\n",
       "            Revolving_CREDIT_Balance Inquiries_in_the_Last_6_Months  \n",
       "dtype                        float64                        float64  \n",
       "cardinality                     2349                             10  \n",
       "n_tot                           2500                           2500  \n",
       "n                               2497                           2497  \n",
       "n_miss                             3                              3  \n",
       "n_miss_perc                   0.0012                         0.0012  \n",
       "sum                       38012292.0                         2264.0  \n",
       "var                 334195518.850116                       1.515728  \n",
       "std                     18281.015258                       1.231149  \n",
       "mean                    15223.184622                       0.906688  \n",
       "iqr                          13277.0                            1.0  \n",
       "lc_iqr                      -14331.5                           -1.5  \n",
       "uc_iqr                       38776.5                            2.5  \n",
       "min                              0.0                            0.0  \n",
       "p1                               0.0                            0.0  \n",
       "p5                             916.2                            0.0  \n",
       "p10                           2298.8                            0.0  \n",
       "p25                           5584.0                            0.0  \n",
       "p50                          10948.0                            0.0  \n",
       "p75                          18861.0                            1.0  \n",
       "p90                          30047.0                            3.0  \n",
       "p95                          40768.4                            3.0  \n",
       "p99                         92433.64                            5.0  \n",
       "max                         270800.0                            9.0  "
      ]
     },
     "execution_count": 63,
     "metadata": {},
     "output_type": "execute_result"
    }
   ],
   "source": [
    "loan_data_conti_vars.apply(fn_describe)"
   ]
  },
  {
   "cell_type": "code",
   "execution_count": 69,
   "id": "fbc16a7f",
   "metadata": {},
   "outputs": [],
   "source": [
    "for var in loan_data_conti_vars.columns:\n",
    "        loan_data[var] = np.where(loan_data[var] > loan_data[var].quantile(0.99) ,\n",
    "                                    loan_data[var].quantile(0.99), loan_data[var])"
   ]
  },
  {
   "cell_type": "code",
   "execution_count": 66,
   "id": "0b57030f",
   "metadata": {},
   "outputs": [],
   "source": [
    "loan_data.drop( columns='Employment_Length' , inplace= True)\n",
    "loan_data.dropna( inplace= True)"
   ]
  },
  {
   "cell_type": "code",
   "execution_count": 73,
   "id": "c4c7ba58",
   "metadata": {
    "scrolled": true
   },
   "outputs": [
    {
     "data": {
      "text/plain": [
       "Amount_Requested                  0\n",
       "Amount_Funded_By_Investors        0\n",
       "Interest_Rate                     0\n",
       "Loan_Length                       0\n",
       "Loan_Purpose                      0\n",
       "Debt_To_Income_Ratio              0\n",
       "State                             0\n",
       "Home_Ownership                    0\n",
       "Monthly_Income                    0\n",
       "FICO_Range                        0\n",
       "Open_CREDIT_Lines                 0\n",
       "Revolving_CREDIT_Balance          0\n",
       "Inquiries_in_the_Last_6_Months    0\n",
       "dtype: int64"
      ]
     },
     "execution_count": 73,
     "metadata": {},
     "output_type": "execute_result"
    }
   ],
   "source": [
    "loan_data.isnull().sum()"
   ]
  },
  {
   "cell_type": "markdown",
   "id": "ad5675a9",
   "metadata": {},
   "source": [
    "### Q1 (a)"
   ]
  },
  {
   "cell_type": "markdown",
   "id": "c8c92519",
   "metadata": {},
   "source": [
    "Ho= loan amount and interest rate are not to each other/independent variables/Interest rates are same      \n",
    "Ha= loan amount and interest rate are related to each other/dependent variables/Interest rates are different\n",
    "\n",
    "At CI= 95% , p value = 0.05\n",
    "Test= Spearsmen\n"
   ]
  },
  {
   "cell_type": "code",
   "execution_count": 78,
   "id": "3f852a5d",
   "metadata": {},
   "outputs": [
    {
     "data": {
      "text/plain": [
       "SpearmanrResult(correlation=0.2825339098275235, pvalue=6.66251358551973e-47)"
      ]
     },
     "execution_count": 78,
     "metadata": {},
     "output_type": "execute_result"
    }
   ],
   "source": [
    "stats.spearmanr(loan_data.Amount_Funded_By_Investors,loan_data.Interest_Rate)"
   ]
  },
  {
   "cell_type": "markdown",
   "id": "cb711bf4",
   "metadata": {},
   "source": [
    "Business Conclusion -\n",
    "\n",
    "since p value 6.66251358551973e-47 < 0.05 , we reject Ho\n",
    "0.2825339098275235 indicates that there is a direct relationship in between loan amount given and interest rate "
   ]
  },
  {
   "cell_type": "markdown",
   "id": "f5d1854a",
   "metadata": {},
   "source": [
    "### Q1 (b)"
   ]
  },
  {
   "cell_type": "markdown",
   "id": "6311098f",
   "metadata": {},
   "source": [
    "Ho= loan length and interest rates are not related/indpendent to each other \n",
    "Ha= loan length and interest rates are related/dpendent to each other \n",
    "\n",
    "At CI = 95% , p value = 0.05\n",
    "Test = Pearson"
   ]
  },
  {
   "cell_type": "code",
   "execution_count": 75,
   "id": "3672fd03",
   "metadata": {},
   "outputs": [
    {
     "data": {
      "text/plain": [
       "PearsonRResult(statistic=0.42321988664346377, pvalue=9.698700419277393e-109)"
      ]
     },
     "execution_count": 75,
     "metadata": {},
     "output_type": "execute_result"
    }
   ],
   "source": [
    "stats.pearsonr(loan_data.Loan_Length,loan_data.Interest_Rate)"
   ]
  },
  {
   "cell_type": "markdown",
   "id": "f6fb72fa",
   "metadata": {},
   "source": [
    "Business Conclusion -\n",
    "\n",
    "since p value 9.698700419277393e-109 < 0.05 , we reject Ho\n",
    "0.42321988664346377 indicates that there is a direct relationship in between time duration and interest rate "
   ]
  },
  {
   "cell_type": "markdown",
   "id": "09a80193",
   "metadata": {},
   "source": [
    "### Q1 (c)"
   ]
  },
  {
   "cell_type": "code",
   "execution_count": 77,
   "id": "f72b5edf",
   "metadata": {},
   "outputs": [
    {
     "data": {
      "text/plain": [
       "debt_consolidation    1301\n",
       "credit_card            443\n",
       "other                  199\n",
       "home_improvement       152\n",
       "major_purchase         101\n",
       "small_business          86\n",
       "car                     50\n",
       "wedding                 38\n",
       "medical                 30\n",
       "moving                  29\n",
       "vacation                21\n",
       "house                   20\n",
       "educational             15\n",
       "renewable_energy         4\n",
       "Name: Loan_Purpose, dtype: int64"
      ]
     },
     "execution_count": 77,
     "metadata": {},
     "output_type": "execute_result"
    }
   ],
   "source": [
    "loan_data.Loan_Purpose.value_counts()"
   ]
  },
  {
   "cell_type": "markdown",
   "id": "509f280f",
   "metadata": {},
   "source": [
    "Ho= Interest rates are same for all types of loans | mean of interest rates for all types of loans are same \n",
    "Ha= Interest rates are different for all types of loans | mean of interest rates for all types of loans are not same\n",
    "\n",
    "At CI= 95%, P value = 0.05\n",
    "Test = F test/ Annova \n"
   ]
  },
  {
   "cell_type": "code",
   "execution_count": 81,
   "id": "56799861",
   "metadata": {},
   "outputs": [],
   "source": [
    "P1 = loan_data.loc[ loan_data.Loan_Purpose == 'debt_consolidation', 'Interest_Rate' ]\n",
    "P2 = loan_data.loc[ loan_data.Loan_Purpose == 'credit_card', 'Interest_Rate' ]\n",
    "P3 = loan_data.loc[ loan_data.Loan_Purpose == 'other', 'Interest_Rate' ]\n",
    "P4 = loan_data.loc[ loan_data.Loan_Purpose == 'moving', 'Interest_Rate' ]\n",
    "P5 = loan_data.loc[ loan_data.Loan_Purpose == 'car', 'Interest_Rate' ]\n",
    "P6 = loan_data.loc[ loan_data.Loan_Purpose == 'vacation', 'Interest_Rate' ]\n",
    "P7 = loan_data.loc[ loan_data.Loan_Purpose == 'home_improvement', 'Interest_Rate' ]\n",
    "P8 = loan_data.loc[ loan_data.Loan_Purpose == 'house', 'Interest_Rate' ]\n",
    "P9 = loan_data.loc[ loan_data.Loan_Purpose == 'major_purchase', 'Interest_Rate' ]\n",
    "P10 = loan_data.loc[ loan_data.Loan_Purpose == 'educational', 'Interest_Rate' ]\n",
    "P11 = loan_data.loc[ loan_data.Loan_Purpose == 'medical', 'Interest_Rate' ]\n",
    "P12 = loan_data.loc[ loan_data.Loan_Purpose == 'wedding', 'Interest_Rate' ]\n",
    "P13 = loan_data.loc[ loan_data.Loan_Purpose == 'small_business', 'Interest_Rate' ]\n",
    "P14 = loan_data.loc[ loan_data.Loan_Purpose == 'renewable_energy', 'Interest_Rate' ]"
   ]
  },
  {
   "cell_type": "code",
   "execution_count": 82,
   "id": "f925529a",
   "metadata": {},
   "outputs": [
    {
     "data": {
      "text/plain": [
       "F_onewayResult(statistic=7.485653543984084, pvalue=1.1442844848970191e-14)"
      ]
     },
     "execution_count": 82,
     "metadata": {},
     "output_type": "execute_result"
    }
   ],
   "source": [
    "stats.f_oneway(P1,P2,P3,P4,P5,P6,P7,P8,P9,P10,P11,P12,P13,P14)"
   ]
  },
  {
   "cell_type": "markdown",
   "id": "abac8451",
   "metadata": {},
   "source": [
    "Business Conclusion\n",
    "\n",
    "pvalue 1.1442844848970191e-14 < 0.05 , we reject Ho\n",
    "Interest rates are different for all types of loans "
   ]
  },
  {
   "cell_type": "markdown",
   "id": "52fcb237",
   "metadata": {},
   "source": [
    "### Q1 (d)"
   ]
  },
  {
   "cell_type": "code",
   "execution_count": 83,
   "id": "1b14d970",
   "metadata": {},
   "outputs": [
    {
     "data": {
      "text/plain": [
       "MORTGAGE    1144\n",
       "RENT        1140\n",
       "OWN          200\n",
       "OTHER          5\n",
       "Name: Home_Ownership, dtype: int64"
      ]
     },
     "execution_count": 83,
     "metadata": {},
     "output_type": "execute_result"
    }
   ],
   "source": [
    "loan_data.Home_Ownership.value_counts()"
   ]
  },
  {
   "cell_type": "code",
   "execution_count": 84,
   "id": "a3040f23",
   "metadata": {},
   "outputs": [
    {
     "data": {
      "text/plain": [
       "670-674    170\n",
       "675-679    166\n",
       "680-684    157\n",
       "695-699    153\n",
       "665-669    145\n",
       "690-694    139\n",
       "685-689    135\n",
       "705-709    134\n",
       "700-704    131\n",
       "660-664    124\n",
       "720-724    112\n",
       "710-714    110\n",
       "730-734     94\n",
       "725-729     94\n",
       "715-719     93\n",
       "735-739     65\n",
       "750-754     61\n",
       "745-749     54\n",
       "740-744     53\n",
       "755-759     46\n",
       "760-764     46\n",
       "765-769     36\n",
       "780-784     28\n",
       "775-779     22\n",
       "790-794     20\n",
       "785-789     19\n",
       "770-774     17\n",
       "795-799     13\n",
       "800-804     12\n",
       "805-809     11\n",
       "810-814      8\n",
       "815-819      6\n",
       "640-644      5\n",
       "655-659      4\n",
       "645-649      3\n",
       "830-834      1\n",
       "820-824      1\n",
       "650-654      1\n",
       "Name: FICO_Range, dtype: int64"
      ]
     },
     "execution_count": 84,
     "metadata": {},
     "output_type": "execute_result"
    }
   ],
   "source": [
    "loan_data.FICO_Range.value_counts()"
   ]
  },
  {
   "cell_type": "markdown",
   "id": "80fdadd8",
   "metadata": {},
   "source": [
    "Ho= Home_Ownership & FICO_Range are independent variables to each other\n",
    "Ha= Home_Ownership & FICO_Range are dependent variables to each other\n",
    "\n",
    "At CI = 95 % , p value = 0.05\n",
    "Test = Chi-squared "
   ]
  },
  {
   "cell_type": "code",
   "execution_count": 87,
   "id": "6f483ba1",
   "metadata": {},
   "outputs": [
    {
     "data": {
      "text/html": [
       "<div>\n",
       "<style scoped>\n",
       "    .dataframe tbody tr th:only-of-type {\n",
       "        vertical-align: middle;\n",
       "    }\n",
       "\n",
       "    .dataframe tbody tr th {\n",
       "        vertical-align: top;\n",
       "    }\n",
       "\n",
       "    .dataframe thead th {\n",
       "        text-align: right;\n",
       "    }\n",
       "</style>\n",
       "<table border=\"1\" class=\"dataframe\">\n",
       "  <thead>\n",
       "    <tr style=\"text-align: right;\">\n",
       "      <th>FICO_Range</th>\n",
       "      <th>640-644</th>\n",
       "      <th>645-649</th>\n",
       "      <th>650-654</th>\n",
       "      <th>655-659</th>\n",
       "      <th>660-664</th>\n",
       "      <th>665-669</th>\n",
       "      <th>670-674</th>\n",
       "      <th>675-679</th>\n",
       "      <th>680-684</th>\n",
       "      <th>685-689</th>\n",
       "      <th>...</th>\n",
       "      <th>780-784</th>\n",
       "      <th>785-789</th>\n",
       "      <th>790-794</th>\n",
       "      <th>795-799</th>\n",
       "      <th>800-804</th>\n",
       "      <th>805-809</th>\n",
       "      <th>810-814</th>\n",
       "      <th>815-819</th>\n",
       "      <th>820-824</th>\n",
       "      <th>830-834</th>\n",
       "    </tr>\n",
       "    <tr>\n",
       "      <th>Home_Ownership</th>\n",
       "      <th></th>\n",
       "      <th></th>\n",
       "      <th></th>\n",
       "      <th></th>\n",
       "      <th></th>\n",
       "      <th></th>\n",
       "      <th></th>\n",
       "      <th></th>\n",
       "      <th></th>\n",
       "      <th></th>\n",
       "      <th></th>\n",
       "      <th></th>\n",
       "      <th></th>\n",
       "      <th></th>\n",
       "      <th></th>\n",
       "      <th></th>\n",
       "      <th></th>\n",
       "      <th></th>\n",
       "      <th></th>\n",
       "      <th></th>\n",
       "      <th></th>\n",
       "    </tr>\n",
       "  </thead>\n",
       "  <tbody>\n",
       "    <tr>\n",
       "      <th>MORTGAGE</th>\n",
       "      <td>0</td>\n",
       "      <td>1</td>\n",
       "      <td>1</td>\n",
       "      <td>0</td>\n",
       "      <td>41</td>\n",
       "      <td>52</td>\n",
       "      <td>67</td>\n",
       "      <td>79</td>\n",
       "      <td>55</td>\n",
       "      <td>61</td>\n",
       "      <td>...</td>\n",
       "      <td>21</td>\n",
       "      <td>12</td>\n",
       "      <td>15</td>\n",
       "      <td>7</td>\n",
       "      <td>7</td>\n",
       "      <td>6</td>\n",
       "      <td>5</td>\n",
       "      <td>6</td>\n",
       "      <td>0</td>\n",
       "      <td>1</td>\n",
       "    </tr>\n",
       "    <tr>\n",
       "      <th>OTHER</th>\n",
       "      <td>0</td>\n",
       "      <td>0</td>\n",
       "      <td>0</td>\n",
       "      <td>1</td>\n",
       "      <td>0</td>\n",
       "      <td>0</td>\n",
       "      <td>1</td>\n",
       "      <td>1</td>\n",
       "      <td>2</td>\n",
       "      <td>0</td>\n",
       "      <td>...</td>\n",
       "      <td>0</td>\n",
       "      <td>0</td>\n",
       "      <td>0</td>\n",
       "      <td>0</td>\n",
       "      <td>0</td>\n",
       "      <td>0</td>\n",
       "      <td>0</td>\n",
       "      <td>0</td>\n",
       "      <td>0</td>\n",
       "      <td>0</td>\n",
       "    </tr>\n",
       "    <tr>\n",
       "      <th>OWN</th>\n",
       "      <td>1</td>\n",
       "      <td>0</td>\n",
       "      <td>0</td>\n",
       "      <td>0</td>\n",
       "      <td>17</td>\n",
       "      <td>18</td>\n",
       "      <td>13</td>\n",
       "      <td>11</td>\n",
       "      <td>9</td>\n",
       "      <td>10</td>\n",
       "      <td>...</td>\n",
       "      <td>3</td>\n",
       "      <td>2</td>\n",
       "      <td>1</td>\n",
       "      <td>1</td>\n",
       "      <td>3</td>\n",
       "      <td>2</td>\n",
       "      <td>1</td>\n",
       "      <td>0</td>\n",
       "      <td>1</td>\n",
       "      <td>0</td>\n",
       "    </tr>\n",
       "    <tr>\n",
       "      <th>RENT</th>\n",
       "      <td>4</td>\n",
       "      <td>2</td>\n",
       "      <td>0</td>\n",
       "      <td>3</td>\n",
       "      <td>66</td>\n",
       "      <td>75</td>\n",
       "      <td>89</td>\n",
       "      <td>75</td>\n",
       "      <td>91</td>\n",
       "      <td>64</td>\n",
       "      <td>...</td>\n",
       "      <td>4</td>\n",
       "      <td>5</td>\n",
       "      <td>4</td>\n",
       "      <td>5</td>\n",
       "      <td>2</td>\n",
       "      <td>3</td>\n",
       "      <td>2</td>\n",
       "      <td>0</td>\n",
       "      <td>0</td>\n",
       "      <td>0</td>\n",
       "    </tr>\n",
       "  </tbody>\n",
       "</table>\n",
       "<p>4 rows × 38 columns</p>\n",
       "</div>"
      ],
      "text/plain": [
       "FICO_Range      640-644  645-649  650-654  655-659  660-664  665-669  670-674  \\\n",
       "Home_Ownership                                                                  \n",
       "MORTGAGE              0        1        1        0       41       52       67   \n",
       "OTHER                 0        0        0        1        0        0        1   \n",
       "OWN                   1        0        0        0       17       18       13   \n",
       "RENT                  4        2        0        3       66       75       89   \n",
       "\n",
       "FICO_Range      675-679  680-684  685-689  ...  780-784  785-789  790-794  \\\n",
       "Home_Ownership                             ...                              \n",
       "MORTGAGE             79       55       61  ...       21       12       15   \n",
       "OTHER                 1        2        0  ...        0        0        0   \n",
       "OWN                  11        9       10  ...        3        2        1   \n",
       "RENT                 75       91       64  ...        4        5        4   \n",
       "\n",
       "FICO_Range      795-799  800-804  805-809  810-814  815-819  820-824  830-834  \n",
       "Home_Ownership                                                                 \n",
       "MORTGAGE              7        7        6        5        6        0        1  \n",
       "OTHER                 0        0        0        0        0        0        0  \n",
       "OWN                   1        3        2        1        0        1        0  \n",
       "RENT                  5        2        3        2        0        0        0  \n",
       "\n",
       "[4 rows x 38 columns]"
      ]
     },
     "execution_count": 87,
     "metadata": {},
     "output_type": "execute_result"
    }
   ],
   "source": [
    "Obs_freq_table = pd.crosstab(loan_data.Home_Ownership, loan_data.FICO_Range)\n",
    "Obs_freq_table"
   ]
  },
  {
   "cell_type": "code",
   "execution_count": 88,
   "id": "cf2a4775",
   "metadata": {},
   "outputs": [
    {
     "data": {
      "text/plain": [
       "(281.6125223416783,\n",
       " 8.424183189199129e-17,\n",
       " 111,\n",
       " array([[2.29811169e+00, 1.37886701e+00, 4.59622338e-01, 1.83848935e+00,\n",
       "         5.69931699e+01, 6.66452391e+01, 7.81357975e+01, 7.62973082e+01,\n",
       "         7.21607071e+01, 6.20490157e+01, 6.38875050e+01, 7.03222178e+01,\n",
       "         6.02105263e+01, 6.15893933e+01, 5.05584572e+01, 4.27448775e+01,\n",
       "         5.14777019e+01, 4.32044998e+01, 4.32044998e+01, 2.98754520e+01,\n",
       "         2.43599839e+01, 2.48196063e+01, 2.80369626e+01, 2.11426276e+01,\n",
       "         2.11426276e+01, 1.65464042e+01, 7.81357975e+00, 1.01116914e+01,\n",
       "         1.28694255e+01, 8.73282443e+00, 9.19244677e+00, 5.97509040e+00,\n",
       "         5.51546806e+00, 5.05584572e+00, 3.67697871e+00, 2.75773403e+00,\n",
       "         4.59622338e-01, 4.59622338e-01],\n",
       "        [1.00441945e-02, 6.02651667e-03, 2.00883889e-03, 8.03535556e-03,\n",
       "         2.49096022e-01, 2.91281639e-01, 3.41502611e-01, 3.33467256e-01,\n",
       "         3.15387706e-01, 2.71193250e-01, 2.79228606e-01, 3.07352350e-01,\n",
       "         2.63157895e-01, 2.69184411e-01, 2.20972278e-01, 1.86822017e-01,\n",
       "         2.24989956e-01, 1.88830856e-01, 1.88830856e-01, 1.30574528e-01,\n",
       "         1.06468461e-01, 1.08477300e-01, 1.22539172e-01, 9.24065890e-02,\n",
       "         9.24065890e-02, 7.23182001e-02, 3.41502611e-02, 4.41944556e-02,\n",
       "         5.62474890e-02, 3.81679389e-02, 4.01767778e-02, 2.61149056e-02,\n",
       "         2.41060667e-02, 2.20972278e-02, 1.60707111e-02, 1.20530333e-02,\n",
       "         2.00883889e-03, 2.00883889e-03],\n",
       "        [4.01767778e-01, 2.41060667e-01, 8.03535556e-02, 3.21414223e-01,\n",
       "         9.96384090e+00, 1.16512656e+01, 1.36601045e+01, 1.33386902e+01,\n",
       "         1.26155082e+01, 1.08477300e+01, 1.11691442e+01, 1.22940940e+01,\n",
       "         1.05263158e+01, 1.07673765e+01, 8.83889112e+00, 7.47288067e+00,\n",
       "         8.99959823e+00, 7.55323423e+00, 7.55323423e+00, 5.22298112e+00,\n",
       "         4.25873845e+00, 4.33909200e+00, 4.90156689e+00, 3.69626356e+00,\n",
       "         3.69626356e+00, 2.89272800e+00, 1.36601045e+00, 1.76777822e+00,\n",
       "         2.24989956e+00, 1.52671756e+00, 1.60707111e+00, 1.04459622e+00,\n",
       "         9.64242668e-01, 8.83889112e-01, 6.42828445e-01, 4.82121334e-01,\n",
       "         8.03535556e-02, 8.03535556e-02],\n",
       "        [2.29007634e+00, 1.37404580e+00, 4.58015267e-01, 1.83206107e+00,\n",
       "         5.67938931e+01, 6.64122137e+01, 7.78625954e+01, 7.60305344e+01,\n",
       "         7.19083969e+01, 6.18320611e+01, 6.36641221e+01, 7.00763359e+01,\n",
       "         6.00000000e+01, 6.13740458e+01, 5.03816794e+01, 4.25954198e+01,\n",
       "         5.12977099e+01, 4.30534351e+01, 4.30534351e+01, 2.97709924e+01,\n",
       "         2.42748092e+01, 2.47328244e+01, 2.79389313e+01, 2.10687023e+01,\n",
       "         2.10687023e+01, 1.64885496e+01, 7.78625954e+00, 1.00763359e+01,\n",
       "         1.28244275e+01, 8.70229008e+00, 9.16030534e+00, 5.95419847e+00,\n",
       "         5.49618321e+00, 5.03816794e+00, 3.66412214e+00, 2.74809160e+00,\n",
       "         4.58015267e-01, 4.58015267e-01]]))"
      ]
     },
     "execution_count": 88,
     "metadata": {},
     "output_type": "execute_result"
    }
   ],
   "source": [
    "stats.chi2_contingency(Obs_freq_table)"
   ]
  },
  {
   "cell_type": "markdown",
   "id": "2aed8093",
   "metadata": {},
   "source": [
    "Business Conclusion \n",
    "\n",
    "p value  8.424183189199129e-17 < 0.05 , we reject Ho\n",
    "Home_Ownership & FICO_Range are dependent variables to each other.\n",
    "People with owning home will have high FICO scores.\n"
   ]
  },
  {
   "cell_type": "markdown",
   "id": "eac2e7a2",
   "metadata": {},
   "source": [
    "### Q2"
   ]
  },
  {
   "cell_type": "code",
   "execution_count": 89,
   "id": "0aa5ce6f",
   "metadata": {},
   "outputs": [],
   "source": [
    "Price_quote=pd.read_csv(\"C:\\\\Users\\\\d\\\\OneDrive\\\\Desktop\\\\Python Study Material\\\\Case studies\\\\Casr study 5\\\\Price_Quotes.csv\")"
   ]
  },
  {
   "cell_type": "code",
   "execution_count": 90,
   "id": "85fbaf9c",
   "metadata": {},
   "outputs": [
    {
     "data": {
      "text/html": [
       "<div>\n",
       "<style scoped>\n",
       "    .dataframe tbody tr th:only-of-type {\n",
       "        vertical-align: middle;\n",
       "    }\n",
       "\n",
       "    .dataframe tbody tr th {\n",
       "        vertical-align: top;\n",
       "    }\n",
       "\n",
       "    .dataframe thead th {\n",
       "        text-align: right;\n",
       "    }\n",
       "</style>\n",
       "<table border=\"1\" class=\"dataframe\">\n",
       "  <thead>\n",
       "    <tr style=\"text-align: right;\">\n",
       "      <th></th>\n",
       "      <th>Order_Number</th>\n",
       "      <th>Barry_Price</th>\n",
       "      <th>Mary_Price</th>\n",
       "    </tr>\n",
       "  </thead>\n",
       "  <tbody>\n",
       "    <tr>\n",
       "      <th>0</th>\n",
       "      <td>1</td>\n",
       "      <td>126</td>\n",
       "      <td>114</td>\n",
       "    </tr>\n",
       "    <tr>\n",
       "      <th>1</th>\n",
       "      <td>2</td>\n",
       "      <td>110</td>\n",
       "      <td>118</td>\n",
       "    </tr>\n",
       "    <tr>\n",
       "      <th>2</th>\n",
       "      <td>3</td>\n",
       "      <td>138</td>\n",
       "      <td>114</td>\n",
       "    </tr>\n",
       "    <tr>\n",
       "      <th>3</th>\n",
       "      <td>4</td>\n",
       "      <td>142</td>\n",
       "      <td>111</td>\n",
       "    </tr>\n",
       "    <tr>\n",
       "      <th>4</th>\n",
       "      <td>5</td>\n",
       "      <td>146</td>\n",
       "      <td>129</td>\n",
       "    </tr>\n",
       "    <tr>\n",
       "      <th>5</th>\n",
       "      <td>6</td>\n",
       "      <td>136</td>\n",
       "      <td>119</td>\n",
       "    </tr>\n",
       "    <tr>\n",
       "      <th>6</th>\n",
       "      <td>7</td>\n",
       "      <td>94</td>\n",
       "      <td>97</td>\n",
       "    </tr>\n",
       "    <tr>\n",
       "      <th>7</th>\n",
       "      <td>8</td>\n",
       "      <td>103</td>\n",
       "      <td>104</td>\n",
       "    </tr>\n",
       "    <tr>\n",
       "      <th>8</th>\n",
       "      <td>9</td>\n",
       "      <td>140</td>\n",
       "      <td>127</td>\n",
       "    </tr>\n",
       "    <tr>\n",
       "      <th>9</th>\n",
       "      <td>10</td>\n",
       "      <td>152</td>\n",
       "      <td>133</td>\n",
       "    </tr>\n",
       "    <tr>\n",
       "      <th>10</th>\n",
       "      <td>11</td>\n",
       "      <td>108</td>\n",
       "      <td>103</td>\n",
       "    </tr>\n",
       "    <tr>\n",
       "      <th>11</th>\n",
       "      <td>12</td>\n",
       "      <td>97</td>\n",
       "      <td>108</td>\n",
       "    </tr>\n",
       "  </tbody>\n",
       "</table>\n",
       "</div>"
      ],
      "text/plain": [
       "    Order_Number  Barry_Price  Mary_Price\n",
       "0              1          126         114\n",
       "1              2          110         118\n",
       "2              3          138         114\n",
       "3              4          142         111\n",
       "4              5          146         129\n",
       "5              6          136         119\n",
       "6              7           94          97\n",
       "7              8          103         104\n",
       "8              9          140         127\n",
       "9             10          152         133\n",
       "10            11          108         103\n",
       "11            12           97         108"
      ]
     },
     "execution_count": 90,
     "metadata": {},
     "output_type": "execute_result"
    }
   ],
   "source": [
    "Price_quote"
   ]
  },
  {
   "cell_type": "code",
   "execution_count": 122,
   "id": "3387527e",
   "metadata": {
    "scrolled": true
   },
   "outputs": [
    {
     "data": {
      "text/plain": [
       "<AxesSubplot:>"
      ]
     },
     "execution_count": 122,
     "metadata": {},
     "output_type": "execute_result"
    },
    {
     "data": {
      "image/png": "[encoded data removed]",
      "text/plain": [
       "<Figure size 640x480 with 1 Axes>"
      ]
     },
     "metadata": {},
     "output_type": "display_data"
    }
   ],
   "source": [
    "Price_quote['Barry_Price'].plot(kind='box')"
   ]
  },
  {
   "cell_type": "code",
   "execution_count": 124,
   "id": "92017b06",
   "metadata": {},
   "outputs": [
    {
     "data": {
      "text/plain": [
       "<AxesSubplot:>"
      ]
     },
     "execution_count": 124,
     "metadata": {},
     "output_type": "execute_result"
    },
    {
     "data": {
      "image/png": "[encoded data removed]",
      "text/plain": [
       "<Figure size 640x480 with 1 Axes>"
      ]
     },
     "metadata": {},
     "output_type": "display_data"
    }
   ],
   "source": [
    "Price_quote['Mary_Price'].plot(kind='box')"
   ]
  },
  {
   "cell_type": "code",
   "execution_count": 91,
   "id": "08c3eaa1",
   "metadata": {},
   "outputs": [
    {
     "name": "stdout",
     "output_type": "stream",
     "text": [
      "<class 'pandas.core.frame.DataFrame'>\n",
      "RangeIndex: 12 entries, 0 to 11\n",
      "Data columns (total 3 columns):\n",
      " #   Column        Non-Null Count  Dtype\n",
      "---  ------        --------------  -----\n",
      " 0   Order_Number  12 non-null     int64\n",
      " 1   Barry_Price   12 non-null     int64\n",
      " 2   Mary_Price    12 non-null     int64\n",
      "dtypes: int64(3)\n",
      "memory usage: 416.0 bytes\n"
     ]
    }
   ],
   "source": [
    "Price_quote.info()"
   ]
  },
  {
   "cell_type": "code",
   "execution_count": 92,
   "id": "d5438745",
   "metadata": {},
   "outputs": [
    {
     "data": {
      "text/plain": [
       "124.33333333333333"
      ]
     },
     "execution_count": 92,
     "metadata": {},
     "output_type": "execute_result"
    }
   ],
   "source": [
    "Price_quote.Barry_Price.mean()"
   ]
  },
  {
   "cell_type": "code",
   "execution_count": 93,
   "id": "68af02bf",
   "metadata": {},
   "outputs": [
    {
     "data": {
      "text/plain": [
       "114.75"
      ]
     },
     "execution_count": 93,
     "metadata": {},
     "output_type": "execute_result"
    }
   ],
   "source": [
    "Price_quote.Mary_Price.mean()"
   ]
  },
  {
   "cell_type": "markdown",
   "id": "8769d864",
   "metadata": {},
   "source": [
    "Ho= mean of Barry_Price= mean of Mary_Price\n",
    "Ha= mean of Barry_Price not equals to mean of Mary_Price\n",
    "\n",
    "At CI= 95 % , p value = 0.05\n",
    "Test= T-Test"
   ]
  },
  {
   "cell_type": "code",
   "execution_count": 95,
   "id": "e2ee25f2",
   "metadata": {},
   "outputs": [
    {
     "data": {
      "text/plain": [
       "Ttest_relResult(statistic=-2.5213765108923494, pvalue=0.02840588045242053)"
      ]
     },
     "execution_count": 95,
     "metadata": {},
     "output_type": "execute_result"
    }
   ],
   "source": [
    "stats.ttest_rel(Price_quote.Mary_Price,Price_quote.Barry_Price)"
   ]
  },
  {
   "cell_type": "markdown",
   "id": "88fb3c22",
   "metadata": {},
   "source": [
    "P value 0.02840588045242053 < 0.05 , Ho Rejected\n",
    "Business Conclusion\n",
    "\n",
    "There is difference in average price quoted by mary and Barry"
   ]
  },
  {
   "cell_type": "markdown",
   "id": "7cafe07f",
   "metadata": {},
   "source": [
    "### Q3"
   ]
  },
  {
   "cell_type": "code",
   "execution_count": 109,
   "id": "47a55215",
   "metadata": {},
   "outputs": [
    {
     "data": {
      "text/html": [
       "<div>\n",
       "<style scoped>\n",
       "    .dataframe tbody tr th:only-of-type {\n",
       "        vertical-align: middle;\n",
       "    }\n",
       "\n",
       "    .dataframe tbody tr th {\n",
       "        vertical-align: top;\n",
       "    }\n",
       "\n",
       "    .dataframe thead th {\n",
       "        text-align: right;\n",
       "    }\n",
       "</style>\n",
       "<table border=\"1\" class=\"dataframe\">\n",
       "  <thead>\n",
       "    <tr style=\"text-align: right;\">\n",
       "      <th></th>\n",
       "      <th>Month</th>\n",
       "      <th>Reengineer</th>\n",
       "      <th>Employee_Turnover</th>\n",
       "      <th>VAR4</th>\n",
       "      <th>VAR5</th>\n",
       "    </tr>\n",
       "  </thead>\n",
       "  <tbody>\n",
       "    <tr>\n",
       "      <th>0</th>\n",
       "      <td>1</td>\n",
       "      <td>Prior</td>\n",
       "      <td>0.0000</td>\n",
       "      <td>24.390244</td>\n",
       "      <td>42.682927</td>\n",
       "    </tr>\n",
       "    <tr>\n",
       "      <th>1</th>\n",
       "      <td>2</td>\n",
       "      <td>Prior</td>\n",
       "      <td>6.0606</td>\n",
       "      <td>19.354839</td>\n",
       "      <td>25.806452</td>\n",
       "    </tr>\n",
       "    <tr>\n",
       "      <th>2</th>\n",
       "      <td>3</td>\n",
       "      <td>Prior</td>\n",
       "      <td>12.1212</td>\n",
       "      <td>35.087719</td>\n",
       "      <td>146.198830</td>\n",
       "    </tr>\n",
       "    <tr>\n",
       "      <th>3</th>\n",
       "      <td>4</td>\n",
       "      <td>Prior</td>\n",
       "      <td>3.3333</td>\n",
       "      <td>18.404908</td>\n",
       "      <td>110.429448</td>\n",
       "    </tr>\n",
       "    <tr>\n",
       "      <th>4</th>\n",
       "      <td>5</td>\n",
       "      <td>Prior</td>\n",
       "      <td>12.9032</td>\n",
       "      <td>17.964072</td>\n",
       "      <td>23.952096</td>\n",
       "    </tr>\n",
       "    <tr>\n",
       "      <th>5</th>\n",
       "      <td>6</td>\n",
       "      <td>Prior</td>\n",
       "      <td>9.6774</td>\n",
       "      <td>41.176471</td>\n",
       "      <td>47.058824</td>\n",
       "    </tr>\n",
       "    <tr>\n",
       "      <th>6</th>\n",
       "      <td>7</td>\n",
       "      <td>Prior</td>\n",
       "      <td>11.7647</td>\n",
       "      <td>13.422819</td>\n",
       "      <td>0.000000</td>\n",
       "    </tr>\n",
       "    <tr>\n",
       "      <th>7</th>\n",
       "      <td>8</td>\n",
       "      <td>Prior</td>\n",
       "      <td>11.4286</td>\n",
       "      <td>31.250000</td>\n",
       "      <td>25.000000</td>\n",
       "    </tr>\n",
       "    <tr>\n",
       "      <th>8</th>\n",
       "      <td>9</td>\n",
       "      <td>Prior</td>\n",
       "      <td>23.0769</td>\n",
       "      <td>17.241379</td>\n",
       "      <td>132.183908</td>\n",
       "    </tr>\n",
       "    <tr>\n",
       "      <th>9</th>\n",
       "      <td>10</td>\n",
       "      <td>Prior</td>\n",
       "      <td>15.0000</td>\n",
       "      <td>16.574586</td>\n",
       "      <td>16.574586</td>\n",
       "    </tr>\n",
       "    <tr>\n",
       "      <th>10</th>\n",
       "      <td>11</td>\n",
       "      <td>Prior</td>\n",
       "      <td>10.0000</td>\n",
       "      <td>5.917160</td>\n",
       "      <td>88.757396</td>\n",
       "    </tr>\n",
       "    <tr>\n",
       "      <th>11</th>\n",
       "      <td>12</td>\n",
       "      <td>Prior</td>\n",
       "      <td>26.0870</td>\n",
       "      <td>21.164021</td>\n",
       "      <td>31.746032</td>\n",
       "    </tr>\n",
       "    <tr>\n",
       "      <th>12</th>\n",
       "      <td>13</td>\n",
       "      <td>Prior</td>\n",
       "      <td>11.1111</td>\n",
       "      <td>5.076142</td>\n",
       "      <td>10.152284</td>\n",
       "    </tr>\n",
       "    <tr>\n",
       "      <th>13</th>\n",
       "      <td>14</td>\n",
       "      <td>Post</td>\n",
       "      <td>26.6667</td>\n",
       "      <td>9.708738</td>\n",
       "      <td>29.126214</td>\n",
       "    </tr>\n",
       "    <tr>\n",
       "      <th>14</th>\n",
       "      <td>15</td>\n",
       "      <td>Post</td>\n",
       "      <td>17.9487</td>\n",
       "      <td>4.201681</td>\n",
       "      <td>21.008403</td>\n",
       "    </tr>\n",
       "    <tr>\n",
       "      <th>15</th>\n",
       "      <td>16</td>\n",
       "      <td>Post</td>\n",
       "      <td>12.8205</td>\n",
       "      <td>13.043478</td>\n",
       "      <td>34.782609</td>\n",
       "    </tr>\n",
       "    <tr>\n",
       "      <th>16</th>\n",
       "      <td>17</td>\n",
       "      <td>Post</td>\n",
       "      <td>15.7895</td>\n",
       "      <td>9.950249</td>\n",
       "      <td>19.900498</td>\n",
       "    </tr>\n",
       "    <tr>\n",
       "      <th>17</th>\n",
       "      <td>18</td>\n",
       "      <td>Post</td>\n",
       "      <td>0.0000</td>\n",
       "      <td>9.950249</td>\n",
       "      <td>9.950249</td>\n",
       "    </tr>\n",
       "    <tr>\n",
       "      <th>18</th>\n",
       "      <td>19</td>\n",
       "      <td>Post</td>\n",
       "      <td>30.7692</td>\n",
       "      <td>8.510638</td>\n",
       "      <td>25.531915</td>\n",
       "    </tr>\n",
       "    <tr>\n",
       "      <th>19</th>\n",
       "      <td>20</td>\n",
       "      <td>Post</td>\n",
       "      <td>26.8293</td>\n",
       "      <td>9.259259</td>\n",
       "      <td>23.148148</td>\n",
       "    </tr>\n",
       "  </tbody>\n",
       "</table>\n",
       "</div>"
      ],
      "text/plain": [
       "    Month Reengineer  Employee_Turnover       VAR4        VAR5\n",
       "0       1      Prior             0.0000  24.390244   42.682927\n",
       "1       2      Prior             6.0606  19.354839   25.806452\n",
       "2       3      Prior            12.1212  35.087719  146.198830\n",
       "3       4      Prior             3.3333  18.404908  110.429448\n",
       "4       5      Prior            12.9032  17.964072   23.952096\n",
       "5       6      Prior             9.6774  41.176471   47.058824\n",
       "6       7      Prior            11.7647  13.422819    0.000000\n",
       "7       8      Prior            11.4286  31.250000   25.000000\n",
       "8       9      Prior            23.0769  17.241379  132.183908\n",
       "9      10      Prior            15.0000  16.574586   16.574586\n",
       "10     11      Prior            10.0000   5.917160   88.757396\n",
       "11     12      Prior            26.0870  21.164021   31.746032\n",
       "12     13      Prior            11.1111   5.076142   10.152284\n",
       "13     14       Post            26.6667   9.708738   29.126214\n",
       "14     15       Post            17.9487   4.201681   21.008403\n",
       "15     16       Post            12.8205  13.043478   34.782609\n",
       "16     17       Post            15.7895   9.950249   19.900498\n",
       "17     18       Post             0.0000   9.950249    9.950249\n",
       "18     19       Post            30.7692   8.510638   25.531915\n",
       "19     20       Post            26.8293   9.259259   23.148148"
      ]
     },
     "execution_count": 109,
     "metadata": {},
     "output_type": "execute_result"
    }
   ],
   "source": [
    "Treatment = pd.read_csv(\"C:\\\\Users\\\\d\\\\OneDrive\\\\Desktop\\\\Python Study Material\\\\Case studies\\\\Casr study 5\\\\Treatment_Facility.csv\")\n",
    "Treatment"
   ]
  },
  {
   "cell_type": "code",
   "execution_count": 112,
   "id": "abf64233",
   "metadata": {},
   "outputs": [
    {
     "name": "stdout",
     "output_type": "stream",
     "text": [
      "<class 'pandas.core.frame.DataFrame'>\n",
      "RangeIndex: 20 entries, 0 to 19\n",
      "Data columns (total 5 columns):\n",
      " #   Column             Non-Null Count  Dtype  \n",
      "---  ------             --------------  -----  \n",
      " 0   Month              20 non-null     int64  \n",
      " 1   Reengineer         20 non-null     object \n",
      " 2   Employee_Turnover  20 non-null     float64\n",
      " 3   TRFF(%)            20 non-null     float64\n",
      " 4   CI (%)             20 non-null     float64\n",
      "dtypes: float64(3), int64(1), object(1)\n",
      "memory usage: 928.0+ bytes\n"
     ]
    }
   ],
   "source": [
    "Treatment.info()"
   ]
  },
  {
   "cell_type": "code",
   "execution_count": 113,
   "id": "7405cdd4",
   "metadata": {},
   "outputs": [],
   "source": [
    "Treatment.rename(columns=({'VAR4':'TRFF(%)','VAR5' : 'CI (%)'}),inplace=True)\n"
   ]
  },
  {
   "cell_type": "code",
   "execution_count": 115,
   "id": "797f141c",
   "metadata": {},
   "outputs": [
    {
     "data": {
      "text/html": [
       "<div>\n",
       "<style scoped>\n",
       "    .dataframe tbody tr th:only-of-type {\n",
       "        vertical-align: middle;\n",
       "    }\n",
       "\n",
       "    .dataframe tbody tr th {\n",
       "        vertical-align: top;\n",
       "    }\n",
       "\n",
       "    .dataframe thead th {\n",
       "        text-align: right;\n",
       "    }\n",
       "</style>\n",
       "<table border=\"1\" class=\"dataframe\">\n",
       "  <thead>\n",
       "    <tr style=\"text-align: right;\">\n",
       "      <th></th>\n",
       "      <th>Month</th>\n",
       "      <th>Reengineer</th>\n",
       "      <th>Employee_Turnover</th>\n",
       "      <th>TRFF(%)</th>\n",
       "      <th>CI (%)</th>\n",
       "    </tr>\n",
       "  </thead>\n",
       "  <tbody>\n",
       "    <tr>\n",
       "      <th>0</th>\n",
       "      <td>1</td>\n",
       "      <td>Prior</td>\n",
       "      <td>0.0000</td>\n",
       "      <td>24.390244</td>\n",
       "      <td>42.682927</td>\n",
       "    </tr>\n",
       "    <tr>\n",
       "      <th>1</th>\n",
       "      <td>2</td>\n",
       "      <td>Prior</td>\n",
       "      <td>6.0606</td>\n",
       "      <td>19.354839</td>\n",
       "      <td>25.806452</td>\n",
       "    </tr>\n",
       "  </tbody>\n",
       "</table>\n",
       "</div>"
      ],
      "text/plain": [
       "   Month Reengineer  Employee_Turnover    TRFF(%)     CI (%)\n",
       "0      1      Prior             0.0000  24.390244  42.682927\n",
       "1      2      Prior             6.0606  19.354839  25.806452"
      ]
     },
     "execution_count": 115,
     "metadata": {},
     "output_type": "execute_result"
    }
   ],
   "source": [
    "Treatment.head(2)"
   ]
  },
  {
   "cell_type": "code",
   "execution_count": 116,
   "id": "7a461a37",
   "metadata": {},
   "outputs": [
    {
     "data": {
      "text/html": [
       "<div>\n",
       "<style scoped>\n",
       "    .dataframe tbody tr th:only-of-type {\n",
       "        vertical-align: middle;\n",
       "    }\n",
       "\n",
       "    .dataframe tbody tr th {\n",
       "        vertical-align: top;\n",
       "    }\n",
       "\n",
       "    .dataframe thead th {\n",
       "        text-align: right;\n",
       "    }\n",
       "</style>\n",
       "<table border=\"1\" class=\"dataframe\">\n",
       "  <thead>\n",
       "    <tr style=\"text-align: right;\">\n",
       "      <th></th>\n",
       "      <th>Month</th>\n",
       "      <th>Employee_Turnover</th>\n",
       "      <th>TRFF(%)</th>\n",
       "      <th>CI (%)</th>\n",
       "    </tr>\n",
       "  </thead>\n",
       "  <tbody>\n",
       "    <tr>\n",
       "      <th>count</th>\n",
       "      <td>20.00000</td>\n",
       "      <td>20.000000</td>\n",
       "      <td>20.000000</td>\n",
       "      <td>20.000000</td>\n",
       "    </tr>\n",
       "    <tr>\n",
       "      <th>mean</th>\n",
       "      <td>10.50000</td>\n",
       "      <td>14.169395</td>\n",
       "      <td>16.582433</td>\n",
       "      <td>43.199541</td>\n",
       "    </tr>\n",
       "    <tr>\n",
       "      <th>std</th>\n",
       "      <td>5.91608</td>\n",
       "      <td>8.836302</td>\n",
       "      <td>10.088265</td>\n",
       "      <td>41.715909</td>\n",
       "    </tr>\n",
       "    <tr>\n",
       "      <th>min</th>\n",
       "      <td>1.00000</td>\n",
       "      <td>0.000000</td>\n",
       "      <td>4.201681</td>\n",
       "      <td>0.000000</td>\n",
       "    </tr>\n",
       "    <tr>\n",
       "      <th>25%</th>\n",
       "      <td>5.75000</td>\n",
       "      <td>9.919350</td>\n",
       "      <td>9.596368</td>\n",
       "      <td>20.731427</td>\n",
       "    </tr>\n",
       "    <tr>\n",
       "      <th>50%</th>\n",
       "      <td>10.50000</td>\n",
       "      <td>12.470850</td>\n",
       "      <td>14.998702</td>\n",
       "      <td>25.669183</td>\n",
       "    </tr>\n",
       "    <tr>\n",
       "      <th>75%</th>\n",
       "      <td>15.25000</td>\n",
       "      <td>19.230750</td>\n",
       "      <td>19.807134</td>\n",
       "      <td>43.776901</td>\n",
       "    </tr>\n",
       "    <tr>\n",
       "      <th>max</th>\n",
       "      <td>20.00000</td>\n",
       "      <td>30.769200</td>\n",
       "      <td>41.176471</td>\n",
       "      <td>146.198830</td>\n",
       "    </tr>\n",
       "  </tbody>\n",
       "</table>\n",
       "</div>"
      ],
      "text/plain": [
       "          Month  Employee_Turnover    TRFF(%)      CI (%)\n",
       "count  20.00000          20.000000  20.000000   20.000000\n",
       "mean   10.50000          14.169395  16.582433   43.199541\n",
       "std     5.91608           8.836302  10.088265   41.715909\n",
       "min     1.00000           0.000000   4.201681    0.000000\n",
       "25%     5.75000           9.919350   9.596368   20.731427\n",
       "50%    10.50000          12.470850  14.998702   25.669183\n",
       "75%    15.25000          19.230750  19.807134   43.776901\n",
       "max    20.00000          30.769200  41.176471  146.198830"
      ]
     },
     "execution_count": 116,
     "metadata": {},
     "output_type": "execute_result"
    }
   ],
   "source": [
    "Treatment.describe()"
   ]
  },
  {
   "cell_type": "code",
   "execution_count": 117,
   "id": "f0b21f5d",
   "metadata": {},
   "outputs": [],
   "source": [
    "import matplotlib.pyplot as plt "
   ]
  },
  {
   "cell_type": "code",
   "execution_count": 119,
   "id": "d20a3451",
   "metadata": {},
   "outputs": [
    {
     "data": {
      "text/plain": [
       "<AxesSubplot:>"
      ]
     },
     "execution_count": 119,
     "metadata": {},
     "output_type": "execute_result"
    },
    {
     "data": {
      "image/png": "[encoded data removed]",
      "text/plain": [
       "<Figure size 640x480 with 1 Axes>"
      ]
     },
     "metadata": {},
     "output_type": "display_data"
    }
   ],
   "source": [
    "Treatment['TRFF(%)'].plot(kind='box')"
   ]
  },
  {
   "cell_type": "code",
   "execution_count": 121,
   "id": "71b4a30c",
   "metadata": {
    "scrolled": true
   },
   "outputs": [
    {
     "data": {
      "text/plain": [
       "<AxesSubplot:>"
      ]
     },
     "execution_count": 121,
     "metadata": {},
     "output_type": "execute_result"
    },
    {
     "data": {
      "image/png": "[encoded data removed]",
      "text/plain": [
       "<Figure size 640x480 with 1 Axes>"
      ]
     },
     "metadata": {},
     "output_type": "display_data"
    }
   ],
   "source": [
    "Treatment['CI (%)'].plot(kind='box')"
   ]
  },
  {
   "cell_type": "code",
   "execution_count": 129,
   "id": "06cac2a5",
   "metadata": {},
   "outputs": [],
   "source": [
    "p0 = Treatment['TRFF(%)'].min()\n",
    "p25 = Treatment['TRFF(%)'].quantile(0.25)\n",
    "p50 = Treatment['TRFF(%)'].median()  \n",
    "p75 = Treatment['TRFF(%)'].quantile(0.75)\n",
    "p100 = Treatment['TRFF(%)'].max()\n",
    "\n",
    "iqr = p75 - p25\n",
    "\n",
    "lc = p25 - 1.5 * iqr\n",
    "uc = p75 + 1.5 * iqr"
   ]
  },
  {
   "cell_type": "code",
   "execution_count": 130,
   "id": "e07e145b",
   "metadata": {},
   "outputs": [],
   "source": [
    "Treatment['TRFF(%)'].clip(upper=uc,inplace = True)"
   ]
  },
  {
   "cell_type": "code",
   "execution_count": 131,
   "id": "0f011795",
   "metadata": {},
   "outputs": [],
   "source": [
    "P0 = Treatment['CI (%)'].min()\n",
    "P25 = Treatment['CI (%)'].quantile(0.25)\n",
    "P50 = Treatment['CI (%)'].median()  \n",
    "P75 = Treatment['CI (%)'].quantile(0.75)\n",
    "P100 = Treatment['CI (%)'].max()\n",
    "\n",
    "Iqr = p75 - p25\n",
    "\n",
    "Lc = P25 - 1.5 * Iqr\n",
    "Uc = P75 + 1.5 * Iqr"
   ]
  },
  {
   "cell_type": "code",
   "execution_count": 132,
   "id": "44dbd65e",
   "metadata": {},
   "outputs": [],
   "source": [
    "Treatment['CI (%)'].clip(upper=Uc,inplace = True)"
   ]
  },
  {
   "cell_type": "code",
   "execution_count": 133,
   "id": "233742aa",
   "metadata": {},
   "outputs": [
    {
     "data": {
      "text/html": [
       "<div>\n",
       "<style scoped>\n",
       "    .dataframe tbody tr th:only-of-type {\n",
       "        vertical-align: middle;\n",
       "    }\n",
       "\n",
       "    .dataframe tbody tr th {\n",
       "        vertical-align: top;\n",
       "    }\n",
       "\n",
       "    .dataframe thead th {\n",
       "        text-align: right;\n",
       "    }\n",
       "</style>\n",
       "<table border=\"1\" class=\"dataframe\">\n",
       "  <thead>\n",
       "    <tr style=\"text-align: right;\">\n",
       "      <th></th>\n",
       "      <th>Month</th>\n",
       "      <th>Employee_Turnover</th>\n",
       "      <th>TRFF(%)</th>\n",
       "      <th>CI (%)</th>\n",
       "    </tr>\n",
       "  </thead>\n",
       "  <tbody>\n",
       "    <tr>\n",
       "      <th>count</th>\n",
       "      <td>20.00000</td>\n",
       "      <td>20.000000</td>\n",
       "      <td>20.000000</td>\n",
       "      <td>20.000000</td>\n",
       "    </tr>\n",
       "    <tr>\n",
       "      <th>mean</th>\n",
       "      <td>10.50000</td>\n",
       "      <td>14.169395</td>\n",
       "      <td>16.279773</td>\n",
       "      <td>31.139672</td>\n",
       "    </tr>\n",
       "    <tr>\n",
       "      <th>std</th>\n",
       "      <td>5.91608</td>\n",
       "      <td>8.836302</td>\n",
       "      <td>9.377333</td>\n",
       "      <td>17.834444</td>\n",
       "    </tr>\n",
       "    <tr>\n",
       "      <th>min</th>\n",
       "      <td>1.00000</td>\n",
       "      <td>0.000000</td>\n",
       "      <td>4.201681</td>\n",
       "      <td>0.000000</td>\n",
       "    </tr>\n",
       "    <tr>\n",
       "      <th>25%</th>\n",
       "      <td>5.75000</td>\n",
       "      <td>9.919350</td>\n",
       "      <td>9.596368</td>\n",
       "      <td>20.731427</td>\n",
       "    </tr>\n",
       "    <tr>\n",
       "      <th>50%</th>\n",
       "      <td>10.50000</td>\n",
       "      <td>12.470850</td>\n",
       "      <td>14.998702</td>\n",
       "      <td>25.669183</td>\n",
       "    </tr>\n",
       "    <tr>\n",
       "      <th>75%</th>\n",
       "      <td>15.25000</td>\n",
       "      <td>19.230750</td>\n",
       "      <td>19.807134</td>\n",
       "      <td>43.776901</td>\n",
       "    </tr>\n",
       "    <tr>\n",
       "      <th>max</th>\n",
       "      <td>20.00000</td>\n",
       "      <td>30.769200</td>\n",
       "      <td>35.123283</td>\n",
       "      <td>59.093050</td>\n",
       "    </tr>\n",
       "  </tbody>\n",
       "</table>\n",
       "</div>"
      ],
      "text/plain": [
       "          Month  Employee_Turnover    TRFF(%)     CI (%)\n",
       "count  20.00000          20.000000  20.000000  20.000000\n",
       "mean   10.50000          14.169395  16.279773  31.139672\n",
       "std     5.91608           8.836302   9.377333  17.834444\n",
       "min     1.00000           0.000000   4.201681   0.000000\n",
       "25%     5.75000           9.919350   9.596368  20.731427\n",
       "50%    10.50000          12.470850  14.998702  25.669183\n",
       "75%    15.25000          19.230750  19.807134  43.776901\n",
       "max    20.00000          30.769200  35.123283  59.093050"
      ]
     },
     "execution_count": 133,
     "metadata": {},
     "output_type": "execute_result"
    }
   ],
   "source": [
    "Treatment.describe()"
   ]
  },
  {
   "cell_type": "code",
   "execution_count": 135,
   "id": "b94a8d4b",
   "metadata": {},
   "outputs": [
    {
     "data": {
      "text/html": [
       "<div>\n",
       "<style scoped>\n",
       "    .dataframe tbody tr th:only-of-type {\n",
       "        vertical-align: middle;\n",
       "    }\n",
       "\n",
       "    .dataframe tbody tr th {\n",
       "        vertical-align: top;\n",
       "    }\n",
       "\n",
       "    .dataframe thead th {\n",
       "        text-align: right;\n",
       "    }\n",
       "</style>\n",
       "<table border=\"1\" class=\"dataframe\">\n",
       "  <thead>\n",
       "    <tr style=\"text-align: right;\">\n",
       "      <th></th>\n",
       "      <th>Month</th>\n",
       "      <th>Reengineer</th>\n",
       "      <th>Employee_Turnover</th>\n",
       "      <th>TRFF(%)</th>\n",
       "      <th>CI (%)</th>\n",
       "    </tr>\n",
       "  </thead>\n",
       "  <tbody>\n",
       "    <tr>\n",
       "      <th>0</th>\n",
       "      <td>1</td>\n",
       "      <td>Prior</td>\n",
       "      <td>0.0</td>\n",
       "      <td>24.390244</td>\n",
       "      <td>42.682927</td>\n",
       "    </tr>\n",
       "  </tbody>\n",
       "</table>\n",
       "</div>"
      ],
      "text/plain": [
       "   Month Reengineer  Employee_Turnover    TRFF(%)     CI (%)\n",
       "0      1      Prior                0.0  24.390244  42.682927"
      ]
     },
     "execution_count": 135,
     "metadata": {},
     "output_type": "execute_result"
    }
   ],
   "source": [
    "Treatment.head(1)"
   ]
  },
  {
   "cell_type": "code",
   "execution_count": 140,
   "id": "9adc44f9",
   "metadata": {},
   "outputs": [],
   "source": [
    "D1=Treatment.loc[Treatment.Reengineer=='Prior', 'CI (%)']\n",
    "D2=Treatment.loc[Treatment.Reengineer=='Post', 'CI (%)']"
   ]
  },
  {
   "cell_type": "code",
   "execution_count": 141,
   "id": "5a2b326e",
   "metadata": {},
   "outputs": [
    {
     "data": {
      "text/plain": [
       "35.33426154643077"
      ]
     },
     "execution_count": 141,
     "metadata": {},
     "output_type": "execute_result"
    }
   ],
   "source": [
    "D1.mean()"
   ]
  },
  {
   "cell_type": "code",
   "execution_count": 142,
   "id": "929c797f",
   "metadata": {},
   "outputs": [
    {
     "data": {
      "text/plain": [
       "23.34971927988571"
      ]
     },
     "execution_count": 142,
     "metadata": {},
     "output_type": "execute_result"
    }
   ],
   "source": [
    "D2.mean()"
   ]
  },
  {
   "cell_type": "markdown",
   "id": "04c049fe",
   "metadata": {},
   "source": [
    "Ho= CI rate has improved post Reengineer | mean(D2) <= mean(D2)\n",
    "Ha= CI rate not improved post Reengineer | mean(D2) > mean(D2)\n",
    "\n",
    "At CI = 95%, P value = 0.05\n",
    "Test = T test "
   ]
  },
  {
   "cell_type": "code",
   "execution_count": 147,
   "id": "897de780",
   "metadata": {},
   "outputs": [
    {
     "data": {
      "text/plain": [
       "Ttest_indResult(statistic=1.477332997270037, pvalue=0.15686981242931372)"
      ]
     },
     "execution_count": 147,
     "metadata": {},
     "output_type": "execute_result"
    }
   ],
   "source": [
    "stats.ttest_ind(D1,D2)"
   ]
  },
  {
   "cell_type": "markdown",
   "id": "3184e4a9",
   "metadata": {},
   "source": [
    "Business Conclusion \n",
    "\n",
    "since p value 0.15686981242931372 > 0.05 , we can say that CI rate has changed post Reengineer"
   ]
  },
  {
   "cell_type": "markdown",
   "id": "926939ec",
   "metadata": {},
   "source": [
    "### Q4"
   ]
  },
  {
   "cell_type": "code",
   "execution_count": 148,
   "id": "3601cd44",
   "metadata": {},
   "outputs": [],
   "source": [
    "Priority_data= pd.read_csv(\"C:\\\\Users\\\\d\\\\OneDrive\\\\Desktop\\\\Python Study Material\\\\Case studies\\\\Casr study 5\\\\Priority_Assessment.csv\")"
   ]
  },
  {
   "cell_type": "code",
   "execution_count": 150,
   "id": "c3f9a2d5",
   "metadata": {},
   "outputs": [
    {
     "data": {
      "text/html": [
       "<div>\n",
       "<style scoped>\n",
       "    .dataframe tbody tr th:only-of-type {\n",
       "        vertical-align: middle;\n",
       "    }\n",
       "\n",
       "    .dataframe tbody tr th {\n",
       "        vertical-align: top;\n",
       "    }\n",
       "\n",
       "    .dataframe thead th {\n",
       "        text-align: right;\n",
       "    }\n",
       "</style>\n",
       "<table border=\"1\" class=\"dataframe\">\n",
       "  <thead>\n",
       "    <tr style=\"text-align: right;\">\n",
       "      <th></th>\n",
       "      <th>Days</th>\n",
       "      <th>Priority</th>\n",
       "    </tr>\n",
       "  </thead>\n",
       "  <tbody>\n",
       "    <tr>\n",
       "      <th>0</th>\n",
       "      <td>3.3</td>\n",
       "      <td>High</td>\n",
       "    </tr>\n",
       "    <tr>\n",
       "      <th>1</th>\n",
       "      <td>7.9</td>\n",
       "      <td>Medium</td>\n",
       "    </tr>\n",
       "  </tbody>\n",
       "</table>\n",
       "</div>"
      ],
      "text/plain": [
       "   Days Priority\n",
       "0   3.3     High\n",
       "1   7.9   Medium"
      ]
     },
     "execution_count": 150,
     "metadata": {},
     "output_type": "execute_result"
    }
   ],
   "source": [
    "Priority_data.head(2)"
   ]
  },
  {
   "cell_type": "code",
   "execution_count": 151,
   "id": "fdfd14f2",
   "metadata": {},
   "outputs": [
    {
     "name": "stdout",
     "output_type": "stream",
     "text": [
      "<class 'pandas.core.frame.DataFrame'>\n",
      "RangeIndex: 642 entries, 0 to 641\n",
      "Data columns (total 2 columns):\n",
      " #   Column    Non-Null Count  Dtype  \n",
      "---  ------    --------------  -----  \n",
      " 0   Days      642 non-null    float64\n",
      " 1   Priority  642 non-null    object \n",
      "dtypes: float64(1), object(1)\n",
      "memory usage: 10.2+ KB\n"
     ]
    }
   ],
   "source": [
    "Priority_data.info()"
   ]
  },
  {
   "cell_type": "code",
   "execution_count": 152,
   "id": "f673e528",
   "metadata": {},
   "outputs": [
    {
     "data": {
      "text/plain": [
       "High      326\n",
       "Medium    249\n",
       "Low        67\n",
       "Name: Priority, dtype: int64"
      ]
     },
     "execution_count": 152,
     "metadata": {},
     "output_type": "execute_result"
    }
   ],
   "source": [
    "Priority_data.Priority.value_counts()"
   ]
  },
  {
   "cell_type": "code",
   "execution_count": 157,
   "id": "d7b58481",
   "metadata": {},
   "outputs": [],
   "source": [
    "S1= Priority_data.loc[Priority_data.Priority=='High','Days']\n",
    "S2= Priority_data.loc[Priority_data.Priority=='Medium','Days']\n",
    "S3= Priority_data.loc[Priority_data.Priority=='Low','Days']"
   ]
  },
  {
   "cell_type": "code",
   "execution_count": 154,
   "id": "8630bd35",
   "metadata": {},
   "outputs": [
    {
     "data": {
      "text/plain": [
       "3.023619631901845"
      ]
     },
     "execution_count": 154,
     "metadata": {},
     "output_type": "execute_result"
    }
   ],
   "source": [
    "S1.mean()"
   ]
  },
  {
   "cell_type": "code",
   "execution_count": 155,
   "id": "43bdfdc5",
   "metadata": {},
   "outputs": [
    {
     "data": {
      "text/plain": [
       "2.5000000000000004"
      ]
     },
     "execution_count": 155,
     "metadata": {},
     "output_type": "execute_result"
    }
   ],
   "source": [
    "S2.mean()"
   ]
  },
  {
   "cell_type": "code",
   "execution_count": 158,
   "id": "24837a0b",
   "metadata": {},
   "outputs": [
    {
     "data": {
      "text/plain": [
       "4.228358208955225"
      ]
     },
     "execution_count": 158,
     "metadata": {},
     "output_type": "execute_result"
    }
   ],
   "source": [
    "S3.mean()"
   ]
  },
  {
   "cell_type": "markdown",
   "id": "e79ff9cd",
   "metadata": {},
   "source": [
    "H0= mean(S1)=mean(S2)=mean(S3) | Priority type and days are independent variables \n",
    "Ha= mean(S1)<mean(S2)   | mean(S2) < mean(S1) | Priority type and days are dependent variables \n",
    "\n",
    "At CI = 95%\n",
    "p value = 0.05\n",
    "\n",
    "Test = F test"
   ]
  },
  {
   "cell_type": "code",
   "execution_count": 159,
   "id": "38058f5c",
   "metadata": {},
   "outputs": [
    {
     "data": {
      "text/plain": [
       "F_onewayResult(statistic=1.812311010076072, pvalue=0.16411459461716182)"
      ]
     },
     "execution_count": 159,
     "metadata": {},
     "output_type": "execute_result"
    }
   ],
   "source": [
    "stats.f_oneway(S1,S2,S3)"
   ]
  },
  {
   "cell_type": "markdown",
   "id": "597af81f",
   "metadata": {},
   "source": [
    "Business Conclusion\n",
    "\n",
    "p value 0.16411459461716182 > 0.05 \n",
    "so we cannot say that Priority and days are dependent variables so With the given data we cannot say that the prioritization system is working."
   ]
  },
  {
   "cell_type": "markdown",
   "id": "16da83e0",
   "metadata": {},
   "source": [
    "### Q5"
   ]
  },
  {
   "cell_type": "code",
   "execution_count": 172,
   "id": "9d3c3c8d",
   "metadata": {},
   "outputs": [
    {
     "data": {
      "text/html": [
       "<div>\n",
       "<style scoped>\n",
       "    .dataframe tbody tr th:only-of-type {\n",
       "        vertical-align: middle;\n",
       "    }\n",
       "\n",
       "    .dataframe tbody tr th {\n",
       "        vertical-align: top;\n",
       "    }\n",
       "\n",
       "    .dataframe thead th {\n",
       "        text-align: right;\n",
       "    }\n",
       "</style>\n",
       "<table border=\"1\" class=\"dataframe\">\n",
       "  <thead>\n",
       "    <tr style=\"text-align: right;\">\n",
       "      <th></th>\n",
       "      <th>_rowstate_</th>\n",
       "      <th>Movie</th>\n",
       "      <th>Gender</th>\n",
       "      <th>Marital_Status</th>\n",
       "      <th>Sinage</th>\n",
       "      <th>Parking</th>\n",
       "      <th>Clean</th>\n",
       "      <th>Overall</th>\n",
       "      <th>Age</th>\n",
       "      <th>Income</th>\n",
       "      <th>Hear_About</th>\n",
       "    </tr>\n",
       "  </thead>\n",
       "  <tbody>\n",
       "    <tr>\n",
       "      <th>0</th>\n",
       "      <td>0</td>\n",
       "      <td>Ferris Buellers Day Off</td>\n",
       "      <td>Female</td>\n",
       "      <td>Married</td>\n",
       "      <td>2.0</td>\n",
       "      <td>2.0</td>\n",
       "      <td>2.0</td>\n",
       "      <td>2.0</td>\n",
       "      <td>3.0</td>\n",
       "      <td>1.0</td>\n",
       "      <td>5</td>\n",
       "    </tr>\n",
       "    <tr>\n",
       "      <th>1</th>\n",
       "      <td>0</td>\n",
       "      <td>Ferris Buellers Day Off</td>\n",
       "      <td>Female</td>\n",
       "      <td>Single</td>\n",
       "      <td>1.0</td>\n",
       "      <td>1.0</td>\n",
       "      <td>1.0</td>\n",
       "      <td>1.0</td>\n",
       "      <td>2.0</td>\n",
       "      <td>1.0</td>\n",
       "      <td>5</td>\n",
       "    </tr>\n",
       "    <tr>\n",
       "      <th>2</th>\n",
       "      <td>0</td>\n",
       "      <td>Ferris Buellers Day Off</td>\n",
       "      <td>Male</td>\n",
       "      <td>Married</td>\n",
       "      <td>2.0</td>\n",
       "      <td>4.0</td>\n",
       "      <td>3.0</td>\n",
       "      <td>2.0</td>\n",
       "      <td>4.0</td>\n",
       "      <td>1.0</td>\n",
       "      <td>5</td>\n",
       "    </tr>\n",
       "    <tr>\n",
       "      <th>3</th>\n",
       "      <td>0</td>\n",
       "      <td>Ferris Buellers Day Off</td>\n",
       "      <td>Female</td>\n",
       "      <td>Married</td>\n",
       "      <td>1.0</td>\n",
       "      <td>3.0</td>\n",
       "      <td>2.0</td>\n",
       "      <td>2.0</td>\n",
       "      <td>4.0</td>\n",
       "      <td>1.0</td>\n",
       "      <td>5</td>\n",
       "    </tr>\n",
       "    <tr>\n",
       "      <th>4</th>\n",
       "      <td>0</td>\n",
       "      <td>Ferris Buellers Day Off</td>\n",
       "      <td>Female</td>\n",
       "      <td>Married</td>\n",
       "      <td>1.0</td>\n",
       "      <td>1.0</td>\n",
       "      <td>1.0</td>\n",
       "      <td>1.0</td>\n",
       "      <td>3.0</td>\n",
       "      <td>3.0</td>\n",
       "      <td>1</td>\n",
       "    </tr>\n",
       "    <tr>\n",
       "      <th>...</th>\n",
       "      <td>...</td>\n",
       "      <td>...</td>\n",
       "      <td>...</td>\n",
       "      <td>...</td>\n",
       "      <td>...</td>\n",
       "      <td>...</td>\n",
       "      <td>...</td>\n",
       "      <td>...</td>\n",
       "      <td>...</td>\n",
       "      <td>...</td>\n",
       "      <td>...</td>\n",
       "    </tr>\n",
       "    <tr>\n",
       "      <th>325</th>\n",
       "      <td>0</td>\n",
       "      <td>Old School</td>\n",
       "      <td>2</td>\n",
       "      <td>2</td>\n",
       "      <td>1.0</td>\n",
       "      <td>2.0</td>\n",
       "      <td>1.0</td>\n",
       "      <td>1.0</td>\n",
       "      <td>2.0</td>\n",
       "      <td>1.0</td>\n",
       "      <td>1</td>\n",
       "    </tr>\n",
       "    <tr>\n",
       "      <th>326</th>\n",
       "      <td>0</td>\n",
       "      <td>Old School</td>\n",
       "      <td>1</td>\n",
       "      <td>1</td>\n",
       "      <td>2.0</td>\n",
       "      <td>2.0</td>\n",
       "      <td>2.0</td>\n",
       "      <td>2.0</td>\n",
       "      <td>3.0</td>\n",
       "      <td>3.0</td>\n",
       "      <td>5</td>\n",
       "    </tr>\n",
       "    <tr>\n",
       "      <th>327</th>\n",
       "      <td>0</td>\n",
       "      <td>Old School</td>\n",
       "      <td>2</td>\n",
       "      <td>1</td>\n",
       "      <td>2.0</td>\n",
       "      <td>1.0</td>\n",
       "      <td>1.0</td>\n",
       "      <td>2.0</td>\n",
       "      <td>2.0</td>\n",
       "      <td>2.0</td>\n",
       "      <td>5</td>\n",
       "    </tr>\n",
       "    <tr>\n",
       "      <th>328</th>\n",
       "      <td>0</td>\n",
       "      <td>Old School</td>\n",
       "      <td>1</td>\n",
       "      <td>1</td>\n",
       "      <td>1.0</td>\n",
       "      <td>1.0</td>\n",
       "      <td>1.0</td>\n",
       "      <td>1.0</td>\n",
       "      <td>2.0</td>\n",
       "      <td>1.0</td>\n",
       "      <td>3</td>\n",
       "    </tr>\n",
       "    <tr>\n",
       "      <th>329</th>\n",
       "      <td>0</td>\n",
       "      <td>Old School</td>\n",
       "      <td>2</td>\n",
       "      <td>2</td>\n",
       "      <td>2.0</td>\n",
       "      <td>2.0</td>\n",
       "      <td>3.0</td>\n",
       "      <td>1.0</td>\n",
       "      <td>2.0</td>\n",
       "      <td>1.0</td>\n",
       "      <td>5</td>\n",
       "    </tr>\n",
       "  </tbody>\n",
       "</table>\n",
       "<p>330 rows × 11 columns</p>\n",
       "</div>"
      ],
      "text/plain": [
       "     _rowstate_                    Movie  Gender Marital_Status  Sinage  \\\n",
       "0             0  Ferris Buellers Day Off  Female        Married     2.0   \n",
       "1             0  Ferris Buellers Day Off  Female         Single     1.0   \n",
       "2             0  Ferris Buellers Day Off    Male        Married     2.0   \n",
       "3             0  Ferris Buellers Day Off  Female        Married     1.0   \n",
       "4             0  Ferris Buellers Day Off  Female        Married     1.0   \n",
       "..          ...                      ...     ...            ...     ...   \n",
       "325           0               Old School       2              2     1.0   \n",
       "326           0               Old School       1              1     2.0   \n",
       "327           0               Old School       2              1     2.0   \n",
       "328           0               Old School       1              1     1.0   \n",
       "329           0               Old School       2              2     2.0   \n",
       "\n",
       "     Parking  Clean  Overall  Age  Income Hear_About  \n",
       "0        2.0    2.0      2.0  3.0     1.0          5  \n",
       "1        1.0    1.0      1.0  2.0     1.0          5  \n",
       "2        4.0    3.0      2.0  4.0     1.0          5  \n",
       "3        3.0    2.0      2.0  4.0     1.0          5  \n",
       "4        1.0    1.0      1.0  3.0     3.0          1  \n",
       "..       ...    ...      ...  ...     ...        ...  \n",
       "325      2.0    1.0      1.0  2.0     1.0          1  \n",
       "326      2.0    2.0      2.0  3.0     3.0          5  \n",
       "327      1.0    1.0      2.0  2.0     2.0          5  \n",
       "328      1.0    1.0      1.0  2.0     1.0          3  \n",
       "329      2.0    3.0      1.0  2.0     1.0          5  \n",
       "\n",
       "[330 rows x 11 columns]"
      ]
     },
     "execution_count": 172,
     "metadata": {},
     "output_type": "execute_result"
    }
   ],
   "source": [
    "films_data= pd.read_csv(\"C:\\\\Users\\\\d\\\\OneDrive\\\\Desktop\\\\Python Study Material\\\\Case studies\\\\Casr study 5\\\\Films.csv\")\n",
    "films_data"
   ]
  },
  {
   "cell_type": "code",
   "execution_count": 162,
   "id": "dd628fad",
   "metadata": {},
   "outputs": [],
   "source": [
    "films_data.rename(columns= {'_rowstate_' : 'rowstate'},inplace= True)"
   ]
  },
  {
   "cell_type": "code",
   "execution_count": 163,
   "id": "d1532731",
   "metadata": {},
   "outputs": [
    {
     "name": "stdout",
     "output_type": "stream",
     "text": [
      "<class 'pandas.core.frame.DataFrame'>\n",
      "RangeIndex: 330 entries, 0 to 329\n",
      "Data columns (total 11 columns):\n",
      " #   Column          Non-Null Count  Dtype  \n",
      "---  ------          --------------  -----  \n",
      " 0   rowstate        330 non-null    int64  \n",
      " 1   Movie           330 non-null    object \n",
      " 2   Gender          330 non-null    object \n",
      " 3   Marital_Status  328 non-null    object \n",
      " 4   Sinage          328 non-null    float64\n",
      " 5   Parking         328 non-null    float64\n",
      " 6   Clean           327 non-null    float64\n",
      " 7   Overall         328 non-null    float64\n",
      " 8   Age             328 non-null    float64\n",
      " 9   Income          314 non-null    float64\n",
      " 10  Hear_About      323 non-null    object \n",
      "dtypes: float64(6), int64(1), object(4)\n",
      "memory usage: 28.5+ KB\n"
     ]
    }
   ],
   "source": [
    "films_data.info()"
   ]
  },
  {
   "cell_type": "code",
   "execution_count": 165,
   "id": "5e1863ac",
   "metadata": {
    "scrolled": true
   },
   "outputs": [
    {
     "data": {
      "text/plain": [
       "rowstate           0\n",
       "Movie              0\n",
       "Gender             0\n",
       "Marital_Status     2\n",
       "Sinage             2\n",
       "Parking            2\n",
       "Clean              3\n",
       "Overall            2\n",
       "Age                2\n",
       "Income            16\n",
       "Hear_About         7\n",
       "dtype: int64"
      ]
     },
     "execution_count": 165,
     "metadata": {},
     "output_type": "execute_result"
    }
   ],
   "source": [
    "films_data.isnull().sum()"
   ]
  },
  {
   "cell_type": "code",
   "execution_count": 190,
   "id": "3d5b7f06",
   "metadata": {},
   "outputs": [],
   "source": [
    "films_data.dropna(inplace=True)"
   ]
  },
  {
   "cell_type": "code",
   "execution_count": 191,
   "id": "52591858",
   "metadata": {},
   "outputs": [],
   "source": [
    "films_data.Gender = np.where(films_data.Gender=='Female',2,films_data.Gender)\n",
    "films_data.Gender = np.where(films_data.Gender=='Male',1,films_data.Gender)\n",
    "films_data.Gender = np.where(films_data.Gender=='1',1,films_data.Gender)\n",
    "films_data.Gender = np.where(films_data.Gender=='2',2,films_data.Gender)"
   ]
  },
  {
   "cell_type": "code",
   "execution_count": 192,
   "id": "33bccf44",
   "metadata": {},
   "outputs": [
    {
     "data": {
      "text/html": [
       "<div>\n",
       "<style scoped>\n",
       "    .dataframe tbody tr th:only-of-type {\n",
       "        vertical-align: middle;\n",
       "    }\n",
       "\n",
       "    .dataframe tbody tr th {\n",
       "        vertical-align: top;\n",
       "    }\n",
       "\n",
       "    .dataframe thead th {\n",
       "        text-align: right;\n",
       "    }\n",
       "</style>\n",
       "<table border=\"1\" class=\"dataframe\">\n",
       "  <thead>\n",
       "    <tr style=\"text-align: right;\">\n",
       "      <th></th>\n",
       "      <th>_rowstate_</th>\n",
       "      <th>Movie</th>\n",
       "      <th>Gender</th>\n",
       "      <th>Marital_Status</th>\n",
       "      <th>Sinage</th>\n",
       "      <th>Parking</th>\n",
       "      <th>Clean</th>\n",
       "      <th>Overall</th>\n",
       "      <th>Age</th>\n",
       "      <th>Income</th>\n",
       "      <th>Hear_About</th>\n",
       "    </tr>\n",
       "  </thead>\n",
       "  <tbody>\n",
       "    <tr>\n",
       "      <th>0</th>\n",
       "      <td>0</td>\n",
       "      <td>Ferris Buellers Day Off</td>\n",
       "      <td>2</td>\n",
       "      <td>1</td>\n",
       "      <td>2.0</td>\n",
       "      <td>2.0</td>\n",
       "      <td>2.0</td>\n",
       "      <td>2.0</td>\n",
       "      <td>3.0</td>\n",
       "      <td>1.0</td>\n",
       "      <td>5</td>\n",
       "    </tr>\n",
       "    <tr>\n",
       "      <th>1</th>\n",
       "      <td>0</td>\n",
       "      <td>Ferris Buellers Day Off</td>\n",
       "      <td>2</td>\n",
       "      <td>2</td>\n",
       "      <td>1.0</td>\n",
       "      <td>1.0</td>\n",
       "      <td>1.0</td>\n",
       "      <td>1.0</td>\n",
       "      <td>2.0</td>\n",
       "      <td>1.0</td>\n",
       "      <td>5</td>\n",
       "    </tr>\n",
       "    <tr>\n",
       "      <th>2</th>\n",
       "      <td>0</td>\n",
       "      <td>Ferris Buellers Day Off</td>\n",
       "      <td>1</td>\n",
       "      <td>1</td>\n",
       "      <td>2.0</td>\n",
       "      <td>4.0</td>\n",
       "      <td>3.0</td>\n",
       "      <td>2.0</td>\n",
       "      <td>4.0</td>\n",
       "      <td>1.0</td>\n",
       "      <td>5</td>\n",
       "    </tr>\n",
       "    <tr>\n",
       "      <th>3</th>\n",
       "      <td>0</td>\n",
       "      <td>Ferris Buellers Day Off</td>\n",
       "      <td>2</td>\n",
       "      <td>1</td>\n",
       "      <td>1.0</td>\n",
       "      <td>3.0</td>\n",
       "      <td>2.0</td>\n",
       "      <td>2.0</td>\n",
       "      <td>4.0</td>\n",
       "      <td>1.0</td>\n",
       "      <td>5</td>\n",
       "    </tr>\n",
       "    <tr>\n",
       "      <th>4</th>\n",
       "      <td>0</td>\n",
       "      <td>Ferris Buellers Day Off</td>\n",
       "      <td>2</td>\n",
       "      <td>1</td>\n",
       "      <td>1.0</td>\n",
       "      <td>1.0</td>\n",
       "      <td>1.0</td>\n",
       "      <td>1.0</td>\n",
       "      <td>3.0</td>\n",
       "      <td>3.0</td>\n",
       "      <td>1</td>\n",
       "    </tr>\n",
       "    <tr>\n",
       "      <th>...</th>\n",
       "      <td>...</td>\n",
       "      <td>...</td>\n",
       "      <td>...</td>\n",
       "      <td>...</td>\n",
       "      <td>...</td>\n",
       "      <td>...</td>\n",
       "      <td>...</td>\n",
       "      <td>...</td>\n",
       "      <td>...</td>\n",
       "      <td>...</td>\n",
       "      <td>...</td>\n",
       "    </tr>\n",
       "    <tr>\n",
       "      <th>325</th>\n",
       "      <td>0</td>\n",
       "      <td>Old School</td>\n",
       "      <td>2</td>\n",
       "      <td>2</td>\n",
       "      <td>1.0</td>\n",
       "      <td>2.0</td>\n",
       "      <td>1.0</td>\n",
       "      <td>1.0</td>\n",
       "      <td>2.0</td>\n",
       "      <td>1.0</td>\n",
       "      <td>1</td>\n",
       "    </tr>\n",
       "    <tr>\n",
       "      <th>326</th>\n",
       "      <td>0</td>\n",
       "      <td>Old School</td>\n",
       "      <td>1</td>\n",
       "      <td>1</td>\n",
       "      <td>2.0</td>\n",
       "      <td>2.0</td>\n",
       "      <td>2.0</td>\n",
       "      <td>2.0</td>\n",
       "      <td>3.0</td>\n",
       "      <td>3.0</td>\n",
       "      <td>5</td>\n",
       "    </tr>\n",
       "    <tr>\n",
       "      <th>327</th>\n",
       "      <td>0</td>\n",
       "      <td>Old School</td>\n",
       "      <td>2</td>\n",
       "      <td>1</td>\n",
       "      <td>2.0</td>\n",
       "      <td>1.0</td>\n",
       "      <td>1.0</td>\n",
       "      <td>2.0</td>\n",
       "      <td>2.0</td>\n",
       "      <td>2.0</td>\n",
       "      <td>5</td>\n",
       "    </tr>\n",
       "    <tr>\n",
       "      <th>328</th>\n",
       "      <td>0</td>\n",
       "      <td>Old School</td>\n",
       "      <td>1</td>\n",
       "      <td>1</td>\n",
       "      <td>1.0</td>\n",
       "      <td>1.0</td>\n",
       "      <td>1.0</td>\n",
       "      <td>1.0</td>\n",
       "      <td>2.0</td>\n",
       "      <td>1.0</td>\n",
       "      <td>3</td>\n",
       "    </tr>\n",
       "    <tr>\n",
       "      <th>329</th>\n",
       "      <td>0</td>\n",
       "      <td>Old School</td>\n",
       "      <td>2</td>\n",
       "      <td>2</td>\n",
       "      <td>2.0</td>\n",
       "      <td>2.0</td>\n",
       "      <td>3.0</td>\n",
       "      <td>1.0</td>\n",
       "      <td>2.0</td>\n",
       "      <td>1.0</td>\n",
       "      <td>5</td>\n",
       "    </tr>\n",
       "  </tbody>\n",
       "</table>\n",
       "<p>301 rows × 11 columns</p>\n",
       "</div>"
      ],
      "text/plain": [
       "     _rowstate_                    Movie Gender Marital_Status  Sinage  \\\n",
       "0             0  Ferris Buellers Day Off      2              1     2.0   \n",
       "1             0  Ferris Buellers Day Off      2              2     1.0   \n",
       "2             0  Ferris Buellers Day Off      1              1     2.0   \n",
       "3             0  Ferris Buellers Day Off      2              1     1.0   \n",
       "4             0  Ferris Buellers Day Off      2              1     1.0   \n",
       "..          ...                      ...    ...            ...     ...   \n",
       "325           0               Old School      2              2     1.0   \n",
       "326           0               Old School      1              1     2.0   \n",
       "327           0               Old School      2              1     2.0   \n",
       "328           0               Old School      1              1     1.0   \n",
       "329           0               Old School      2              2     2.0   \n",
       "\n",
       "     Parking  Clean  Overall  Age  Income Hear_About  \n",
       "0        2.0    2.0      2.0  3.0     1.0          5  \n",
       "1        1.0    1.0      1.0  2.0     1.0          5  \n",
       "2        4.0    3.0      2.0  4.0     1.0          5  \n",
       "3        3.0    2.0      2.0  4.0     1.0          5  \n",
       "4        1.0    1.0      1.0  3.0     3.0          1  \n",
       "..       ...    ...      ...  ...     ...        ...  \n",
       "325      2.0    1.0      1.0  2.0     1.0          1  \n",
       "326      2.0    2.0      2.0  3.0     3.0          5  \n",
       "327      1.0    1.0      2.0  2.0     2.0          5  \n",
       "328      1.0    1.0      1.0  2.0     1.0          3  \n",
       "329      2.0    3.0      1.0  2.0     1.0          5  \n",
       "\n",
       "[301 rows x 11 columns]"
      ]
     },
     "execution_count": 192,
     "metadata": {},
     "output_type": "execute_result"
    }
   ],
   "source": [
    "films_data"
   ]
  },
  {
   "cell_type": "code",
   "execution_count": 208,
   "id": "4e5c5f97",
   "metadata": {},
   "outputs": [],
   "source": [
    "films_data.Marital_Status = np.where(films_data.Marital_Status=='Married',1,films_data.Marital_Status)\n",
    "films_data.Marital_Status = np.where(films_data.Marital_Status=='Single',2,films_data.Marital_Status)\n",
    "films_data.Marital_Status = np.where(films_data.Marital_Status=='1',1,films_data.Marital_Status)\n",
    "films_data.Marital_Status = np.where(films_data.Marital_Status=='2',2,films_data.Marital_Status)\n",
    "films_data.Marital_Status = np.where(films_data.Marital_Status=='Slngle',2,films_data.Marital_Status)"
   ]
  },
  {
   "cell_type": "code",
   "execution_count": 194,
   "id": "0e4fb9f0",
   "metadata": {
    "scrolled": true
   },
   "outputs": [
    {
     "data": {
      "text/html": [
       "<div>\n",
       "<style scoped>\n",
       "    .dataframe tbody tr th:only-of-type {\n",
       "        vertical-align: middle;\n",
       "    }\n",
       "\n",
       "    .dataframe tbody tr th {\n",
       "        vertical-align: top;\n",
       "    }\n",
       "\n",
       "    .dataframe thead th {\n",
       "        text-align: right;\n",
       "    }\n",
       "</style>\n",
       "<table border=\"1\" class=\"dataframe\">\n",
       "  <thead>\n",
       "    <tr style=\"text-align: right;\">\n",
       "      <th></th>\n",
       "      <th>_rowstate_</th>\n",
       "      <th>Movie</th>\n",
       "      <th>Gender</th>\n",
       "      <th>Marital_Status</th>\n",
       "      <th>Sinage</th>\n",
       "      <th>Parking</th>\n",
       "      <th>Clean</th>\n",
       "      <th>Overall</th>\n",
       "      <th>Age</th>\n",
       "      <th>Income</th>\n",
       "      <th>Hear_About</th>\n",
       "    </tr>\n",
       "  </thead>\n",
       "  <tbody>\n",
       "    <tr>\n",
       "      <th>0</th>\n",
       "      <td>0</td>\n",
       "      <td>Ferris Buellers Day Off</td>\n",
       "      <td>2</td>\n",
       "      <td>1</td>\n",
       "      <td>2.0</td>\n",
       "      <td>2.0</td>\n",
       "      <td>2.0</td>\n",
       "      <td>2.0</td>\n",
       "      <td>3.0</td>\n",
       "      <td>1.0</td>\n",
       "      <td>5</td>\n",
       "    </tr>\n",
       "    <tr>\n",
       "      <th>1</th>\n",
       "      <td>0</td>\n",
       "      <td>Ferris Buellers Day Off</td>\n",
       "      <td>2</td>\n",
       "      <td>2</td>\n",
       "      <td>1.0</td>\n",
       "      <td>1.0</td>\n",
       "      <td>1.0</td>\n",
       "      <td>1.0</td>\n",
       "      <td>2.0</td>\n",
       "      <td>1.0</td>\n",
       "      <td>5</td>\n",
       "    </tr>\n",
       "    <tr>\n",
       "      <th>2</th>\n",
       "      <td>0</td>\n",
       "      <td>Ferris Buellers Day Off</td>\n",
       "      <td>1</td>\n",
       "      <td>1</td>\n",
       "      <td>2.0</td>\n",
       "      <td>4.0</td>\n",
       "      <td>3.0</td>\n",
       "      <td>2.0</td>\n",
       "      <td>4.0</td>\n",
       "      <td>1.0</td>\n",
       "      <td>5</td>\n",
       "    </tr>\n",
       "    <tr>\n",
       "      <th>3</th>\n",
       "      <td>0</td>\n",
       "      <td>Ferris Buellers Day Off</td>\n",
       "      <td>2</td>\n",
       "      <td>1</td>\n",
       "      <td>1.0</td>\n",
       "      <td>3.0</td>\n",
       "      <td>2.0</td>\n",
       "      <td>2.0</td>\n",
       "      <td>4.0</td>\n",
       "      <td>1.0</td>\n",
       "      <td>5</td>\n",
       "    </tr>\n",
       "    <tr>\n",
       "      <th>4</th>\n",
       "      <td>0</td>\n",
       "      <td>Ferris Buellers Day Off</td>\n",
       "      <td>2</td>\n",
       "      <td>1</td>\n",
       "      <td>1.0</td>\n",
       "      <td>1.0</td>\n",
       "      <td>1.0</td>\n",
       "      <td>1.0</td>\n",
       "      <td>3.0</td>\n",
       "      <td>3.0</td>\n",
       "      <td>1</td>\n",
       "    </tr>\n",
       "    <tr>\n",
       "      <th>...</th>\n",
       "      <td>...</td>\n",
       "      <td>...</td>\n",
       "      <td>...</td>\n",
       "      <td>...</td>\n",
       "      <td>...</td>\n",
       "      <td>...</td>\n",
       "      <td>...</td>\n",
       "      <td>...</td>\n",
       "      <td>...</td>\n",
       "      <td>...</td>\n",
       "      <td>...</td>\n",
       "    </tr>\n",
       "    <tr>\n",
       "      <th>325</th>\n",
       "      <td>0</td>\n",
       "      <td>Old School</td>\n",
       "      <td>2</td>\n",
       "      <td>2</td>\n",
       "      <td>1.0</td>\n",
       "      <td>2.0</td>\n",
       "      <td>1.0</td>\n",
       "      <td>1.0</td>\n",
       "      <td>2.0</td>\n",
       "      <td>1.0</td>\n",
       "      <td>1</td>\n",
       "    </tr>\n",
       "    <tr>\n",
       "      <th>326</th>\n",
       "      <td>0</td>\n",
       "      <td>Old School</td>\n",
       "      <td>1</td>\n",
       "      <td>1</td>\n",
       "      <td>2.0</td>\n",
       "      <td>2.0</td>\n",
       "      <td>2.0</td>\n",
       "      <td>2.0</td>\n",
       "      <td>3.0</td>\n",
       "      <td>3.0</td>\n",
       "      <td>5</td>\n",
       "    </tr>\n",
       "    <tr>\n",
       "      <th>327</th>\n",
       "      <td>0</td>\n",
       "      <td>Old School</td>\n",
       "      <td>2</td>\n",
       "      <td>1</td>\n",
       "      <td>2.0</td>\n",
       "      <td>1.0</td>\n",
       "      <td>1.0</td>\n",
       "      <td>2.0</td>\n",
       "      <td>2.0</td>\n",
       "      <td>2.0</td>\n",
       "      <td>5</td>\n",
       "    </tr>\n",
       "    <tr>\n",
       "      <th>328</th>\n",
       "      <td>0</td>\n",
       "      <td>Old School</td>\n",
       "      <td>1</td>\n",
       "      <td>1</td>\n",
       "      <td>1.0</td>\n",
       "      <td>1.0</td>\n",
       "      <td>1.0</td>\n",
       "      <td>1.0</td>\n",
       "      <td>2.0</td>\n",
       "      <td>1.0</td>\n",
       "      <td>3</td>\n",
       "    </tr>\n",
       "    <tr>\n",
       "      <th>329</th>\n",
       "      <td>0</td>\n",
       "      <td>Old School</td>\n",
       "      <td>2</td>\n",
       "      <td>2</td>\n",
       "      <td>2.0</td>\n",
       "      <td>2.0</td>\n",
       "      <td>3.0</td>\n",
       "      <td>1.0</td>\n",
       "      <td>2.0</td>\n",
       "      <td>1.0</td>\n",
       "      <td>5</td>\n",
       "    </tr>\n",
       "  </tbody>\n",
       "</table>\n",
       "<p>301 rows × 11 columns</p>\n",
       "</div>"
      ],
      "text/plain": [
       "     _rowstate_                    Movie Gender Marital_Status  Sinage  \\\n",
       "0             0  Ferris Buellers Day Off      2              1     2.0   \n",
       "1             0  Ferris Buellers Day Off      2              2     1.0   \n",
       "2             0  Ferris Buellers Day Off      1              1     2.0   \n",
       "3             0  Ferris Buellers Day Off      2              1     1.0   \n",
       "4             0  Ferris Buellers Day Off      2              1     1.0   \n",
       "..          ...                      ...    ...            ...     ...   \n",
       "325           0               Old School      2              2     1.0   \n",
       "326           0               Old School      1              1     2.0   \n",
       "327           0               Old School      2              1     2.0   \n",
       "328           0               Old School      1              1     1.0   \n",
       "329           0               Old School      2              2     2.0   \n",
       "\n",
       "     Parking  Clean  Overall  Age  Income Hear_About  \n",
       "0        2.0    2.0      2.0  3.0     1.0          5  \n",
       "1        1.0    1.0      1.0  2.0     1.0          5  \n",
       "2        4.0    3.0      2.0  4.0     1.0          5  \n",
       "3        3.0    2.0      2.0  4.0     1.0          5  \n",
       "4        1.0    1.0      1.0  3.0     3.0          1  \n",
       "..       ...    ...      ...  ...     ...        ...  \n",
       "325      2.0    1.0      1.0  2.0     1.0          1  \n",
       "326      2.0    2.0      2.0  3.0     3.0          5  \n",
       "327      1.0    1.0      2.0  2.0     2.0          5  \n",
       "328      1.0    1.0      1.0  2.0     1.0          3  \n",
       "329      2.0    3.0      1.0  2.0     1.0          5  \n",
       "\n",
       "[301 rows x 11 columns]"
      ]
     },
     "execution_count": 194,
     "metadata": {},
     "output_type": "execute_result"
    }
   ],
   "source": [
    "films_data"
   ]
  },
  {
   "cell_type": "code",
   "execution_count": null,
   "id": "52a33311",
   "metadata": {},
   "outputs": [],
   "source": [
    "### Q5(1)"
   ]
  },
  {
   "cell_type": "code",
   "execution_count": 195,
   "id": "86acda17",
   "metadata": {},
   "outputs": [
    {
     "data": {
      "text/plain": [
       "Overall\n",
       "1.0    137\n",
       "2.0    148\n",
       "3.0     12\n",
       "4.0      1\n",
       "5.0      3\n",
       "Name: Overall, dtype: int64"
      ]
     },
     "execution_count": 195,
     "metadata": {},
     "output_type": "execute_result"
    }
   ],
   "source": [
    "films_data.groupby(by='Overall').Overall.count()"
   ]
  },
  {
   "cell_type": "markdown",
   "id": "9b1f624d",
   "metadata": {},
   "source": [
    "### overall customer satisfaction level is 1 and 2"
   ]
  },
  {
   "cell_type": "markdown",
   "id": "0b660e1b",
   "metadata": {},
   "source": [
    "### Q5(2)"
   ]
  },
  {
   "cell_type": "code",
   "execution_count": 199,
   "id": "51eab89d",
   "metadata": {},
   "outputs": [],
   "source": [
    "### Customer satisfaction (Overall) may depends on Parking, Sinage and clean\n",
    "\n",
    "### chi-squared test \n",
    "obs1= pd.crosstab(films_data.Overall,films_data.Sinage)\n",
    "obs2=pd.crosstab(films_data.Parking,films_data.Overall)\n",
    "obs3=pd.crosstab(films_data.Clean,films_data.Overall)"
   ]
  },
  {
   "cell_type": "markdown",
   "id": "43fc2ea1",
   "metadata": {},
   "source": [
    "H0= No relation | independent variables\n",
    "Ha= related to each other | dependent varibales\n",
    "\n",
    "At CI = 95 % , p value = 0.05\n"
   ]
  },
  {
   "cell_type": "code",
   "execution_count": 200,
   "id": "da80c524",
   "metadata": {},
   "outputs": [
    {
     "data": {
      "text/plain": [
       "(121.32462033201087,\n",
       " 3.0544447763605627e-18,\n",
       " 16,\n",
       " array([[4.77906977e+01, 6.37209302e+01, 2.04817276e+01, 2.73089701e+00,\n",
       "         2.27574751e+00],\n",
       "        [5.16279070e+01, 6.88372093e+01, 2.21262458e+01, 2.95016611e+00,\n",
       "         2.45847176e+00],\n",
       "        [4.18604651e+00, 5.58139535e+00, 1.79401993e+00, 2.39202658e-01,\n",
       "         1.99335548e-01],\n",
       "        [3.48837209e-01, 4.65116279e-01, 1.49501661e-01, 1.99335548e-02,\n",
       "         1.66112957e-02],\n",
       "        [1.04651163e+00, 1.39534884e+00, 4.48504983e-01, 5.98006645e-02,\n",
       "         4.98338870e-02]]))"
      ]
     },
     "execution_count": 200,
     "metadata": {},
     "output_type": "execute_result"
    }
   ],
   "source": [
    "stats.chi2_contingency(obs1)"
   ]
  },
  {
   "cell_type": "markdown",
   "id": "d9d0fb04",
   "metadata": {},
   "source": [
    "p value  3.0544447763605627e-18 < 0.05, H0 rejected\n",
    "Overall and Sinage are dependent to each other"
   ]
  },
  {
   "cell_type": "code",
   "execution_count": 201,
   "id": "841ee4bf",
   "metadata": {},
   "outputs": [
    {
     "data": {
      "text/plain": [
       "(218.79348282085004,\n",
       " 1.2264032549812005e-37,\n",
       " 16,\n",
       " array([[5.55282392e+01, 5.99867110e+01, 4.86378738e+00, 4.05315615e-01,\n",
       "         1.21594684e+00],\n",
       "        [6.32657807e+01, 6.83455150e+01, 5.54152824e+00, 4.61794020e-01,\n",
       "         1.38538206e+00],\n",
       "        [1.31993355e+01, 1.42591362e+01, 1.15614618e+00, 9.63455150e-02,\n",
       "         2.89036545e-01],\n",
       "        [3.18604651e+00, 3.44186047e+00, 2.79069767e-01, 2.32558140e-02,\n",
       "         6.97674419e-02],\n",
       "        [1.82059801e+00, 1.96677741e+00, 1.59468439e-01, 1.32890365e-02,\n",
       "         3.98671096e-02]]))"
      ]
     },
     "execution_count": 201,
     "metadata": {},
     "output_type": "execute_result"
    }
   ],
   "source": [
    "stats.chi2_contingency(obs2)"
   ]
  },
  {
   "cell_type": "markdown",
   "id": "ebb29868",
   "metadata": {},
   "source": [
    "p value 1.2264032549812005e-37 < 0.05, H0 rejected\n",
    "Overall and Parking are dependent to each other | with increase in Parking, satisfaction increases "
   ]
  },
  {
   "cell_type": "code",
   "execution_count": 202,
   "id": "c4718e73",
   "metadata": {},
   "outputs": [
    {
     "data": {
      "text/plain": [
       "(129.0342392337068,\n",
       " 9.882317099745693e-20,\n",
       " 16,\n",
       " array([[6.09900332e+01, 6.58870432e+01, 5.34219269e+00, 4.45182724e-01,\n",
       "         1.33554817e+00],\n",
       "        [6.28106312e+01, 6.78538206e+01, 5.50166113e+00, 4.58471761e-01,\n",
       "         1.37541528e+00],\n",
       "        [1.00132890e+01, 1.08172757e+01, 8.77076412e-01, 7.30897010e-02,\n",
       "         2.19269103e-01],\n",
       "        [2.27574751e+00, 2.45847176e+00, 1.99335548e-01, 1.66112957e-02,\n",
       "         4.98338870e-02],\n",
       "        [9.10299003e-01, 9.83388704e-01, 7.97342193e-02, 6.64451827e-03,\n",
       "         1.99335548e-02]]))"
      ]
     },
     "execution_count": 202,
     "metadata": {},
     "output_type": "execute_result"
    }
   ],
   "source": [
    "stats.chi2_contingency(obs3)"
   ]
  },
  {
   "cell_type": "markdown",
   "id": "c3982cb2",
   "metadata": {},
   "source": [
    "p value 9.882317099745693e-20 < 0.05, H0 rejected\n",
    "Overall and cleanliness are dependent to each other "
   ]
  },
  {
   "cell_type": "markdown",
   "id": "ab8b174f",
   "metadata": {},
   "source": [
    "### Q5(3)"
   ]
  },
  {
   "cell_type": "code",
   "execution_count": 204,
   "id": "ae7db57d",
   "metadata": {},
   "outputs": [
    {
     "data": {
      "text/plain": [
       "2    195\n",
       "1    106\n",
       "Name: Gender, dtype: int64"
      ]
     },
     "execution_count": 204,
     "metadata": {},
     "output_type": "execute_result"
    }
   ],
   "source": [
    "films_data.Gender.value_counts()   ### majority of audience is of gender 'Female'"
   ]
  },
  {
   "cell_type": "code",
   "execution_count": 209,
   "id": "3946a7cc",
   "metadata": {},
   "outputs": [
    {
     "data": {
      "text/plain": [
       "2    210\n",
       "1     91\n",
       "Name: Marital_Status, dtype: int64"
      ]
     },
     "execution_count": 209,
     "metadata": {},
     "output_type": "execute_result"
    }
   ],
   "source": [
    "films_data.Marital_Status.value_counts()    #### majority of audience belonging to Single "
   ]
  },
  {
   "cell_type": "code",
   "execution_count": 210,
   "id": "2bc8b74d",
   "metadata": {},
   "outputs": [
    {
     "data": {
      "text/plain": [
       "2.0    164\n",
       "3.0    108\n",
       "1.0     22\n",
       "4.0      7\n",
       "Name: Age, dtype: int64"
      ]
     },
     "execution_count": 210,
     "metadata": {},
     "output_type": "execute_result"
    }
   ],
   "source": [
    "films_data.Age.value_counts()  ### majority of audience belongs to age category of 13-30 years"
   ]
  },
  {
   "cell_type": "code",
   "execution_count": 211,
   "id": "8b3013cb",
   "metadata": {},
   "outputs": [
    {
     "data": {
      "text/plain": [
       "1.0    135\n",
       "3.0     86\n",
       "2.0     80\n",
       "Name: Income, dtype: int64"
      ]
     },
     "execution_count": 211,
     "metadata": {},
     "output_type": "execute_result"
    }
   ],
   "source": [
    "films_data.Income.value_counts() ### majority ofd audience salary is Less than $50,000"
   ]
  },
  {
   "cell_type": "markdown",
   "id": "ac16f869",
   "metadata": {},
   "source": [
    "### Q5(4)"
   ]
  },
  {
   "cell_type": "code",
   "execution_count": 213,
   "id": "f6c53bf2",
   "metadata": {},
   "outputs": [
    {
     "data": {
      "text/plain": [
       "Hear_About\n",
       "5      212\n",
       "4       39\n",
       "1       19\n",
       "3       13\n",
       "2       11\n",
       "2,5      2\n",
       "1,5      1\n",
       "3,4      1\n",
       "3,5      1\n",
       "4,5      1\n",
       "5,4      1\n",
       "Name: Hear_About, dtype: int64"
      ]
     },
     "execution_count": 213,
     "metadata": {},
     "output_type": "execute_result"
    }
   ],
   "source": [
    "films_data.groupby('Hear_About').Hear_About.count().sort_values(ascending = False) \n",
    "\n",
    "### Majority of peoples heard of the film through word of mouth"
   ]
  },
  {
   "cell_type": "code",
   "execution_count": null,
   "id": "b94c95ea",
   "metadata": {},
   "outputs": [],
   "source": []
  }
 ],
 "metadata": {
  "kernelspec": {
   "display_name": "Python 3 (ipykernel)",
   "language": "python",
   "name": "python3"
  },
  "language_info": {
   "codemirror_mode": {
    "name": "ipython",
    "version": 3
   },
   "file_extension": ".py",
   "mimetype": "text/x-python",
   "name": "python",
   "nbconvert_exporter": "python",
   "pygments_lexer": "ipython3",
   "version": "3.9.13"
  }
 },
 "nbformat": 4,
 "nbformat_minor": 5
}
